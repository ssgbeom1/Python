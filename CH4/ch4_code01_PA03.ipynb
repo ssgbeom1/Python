{
  "nbformat": 4,
  "nbformat_minor": 0,
  "metadata": {
    "colab": {
      "name": "ch4_code01_PA03.ipynb",
      "provenance": [],
      "collapsed_sections": [],
      "include_colab_link": true
    },
    "kernelspec": {
      "display_name": "Python 3",
      "language": "python",
      "name": "python3"
    },
    "language_info": {
      "codemirror_mode": {
        "name": "ipython",
        "version": 3
      },
      "file_extension": ".py",
      "mimetype": "text/x-python",
      "name": "python",
      "nbconvert_exporter": "python",
      "pygments_lexer": "ipython3",
      "version": "3.7.5"
    }
  },
  "cells": [
    {
      "cell_type": "markdown",
      "metadata": {
        "id": "view-in-github",
        "colab_type": "text"
      },
      "source": [
        "<a href=\"https://colab.research.google.com/github/ssgbeom1/pa03/blob/main/CH4/ch4_code01_PA03.ipynb\" target=\"_parent\"><img src=\"https://colab.research.google.com/assets/colab-badge.svg\" alt=\"Open In Colab\"/></a>"
      ]
    },
    {
      "cell_type": "markdown",
      "metadata": {
        "id": "H4jNE-BMAK3f"
      },
      "source": [
        "# ch4_code01-PA03.ipynb\n",
        "## PA03\n",
        "- 파이썬 함수\n",
        "    - 입력값을 가지고 어떤 일을 수행한 다음에 그 결과물을 출력\n",
        "        - 반복되는 부분을 함수로 전환.\n",
        "        - 코딩을 모듈화\n",
        "- 매개변수와 인수\n",
        "- 입력값과 결괏값\n",
        "    - return\n",
        "    - 여러 개의 입력을 처리하는 함수(*args)\n",
        "    - 키워드 파라미터 (kwargs)\n",
        "    - 매개변수에 초깃값 미리 설정\n",
        "- lambda 함수 정의"
      ]
    },
    {
      "cell_type": "markdown",
      "metadata": {
        "id": "LuWCr9O4-QAR"
      },
      "source": [
        "## 함수란 무엇인가?\n",
        "---\n",
        "- 입력값을 가지고 어떤 일을 수행한 다음에 그결과물을 내어놓는 것\n"
      ]
    },
    {
      "cell_type": "markdown",
      "metadata": {
        "id": "kf0ekFVI-iDw"
      },
      "source": [
        "## 함수를 사용하는 이유는 무엇일까?\n",
        "---\n",
        "- 반복되는 부분을 함수로 전환\n",
        "- 코딩을 모듈화"
      ]
    },
    {
      "cell_type": "markdown",
      "metadata": {
        "id": "-uDoEpo1-zTX"
      },
      "source": [
        "## 파이썬 함수의 구조\n",
        "---\n",
        "- 매개변수와 반환값이 존재 하는 함수\n",
        "- 매개 변수가 없는 함수\n",
        "- 반환 값이 없는 함수\n",
        "- 매개변수, 반환 값 모두 없는 함수"
      ]
    },
    {
      "cell_type": "code",
      "metadata": {
        "id": "_CaRQpDF-v5W"
      },
      "source": [
        "# 기본 함수 구조\n",
        "\"\"\"\n",
        "def 함수명(매개변수):\n",
        "    <수행할 문장1>   \n",
        "    <수행할 문장2> \n",
        "    #return 반환값\n",
        "    ...\n",
        "\"\"\""
      ],
      "execution_count": null,
      "outputs": []
    },
    {
      "cell_type": "markdown",
      "metadata": {
        "id": "TU5DY1FIBOa3"
      },
      "source": [
        "---\n",
        "##### add 함수 만들고 add 함수 호출 해보기\n"
      ]
    },
    {
      "cell_type": "code",
      "metadata": {
        "id": "VWvaGDbhA9R6"
      },
      "source": [
        "def add(a):\n",
        "    print(a)\n",
        "\n"
      ],
      "execution_count": null,
      "outputs": []
    },
    {
      "cell_type": "code",
      "metadata": {
        "colab": {
          "base_uri": "https://localhost:8080/"
        },
        "id": "q--O33BsBEDn",
        "outputId": "f338f7b6-3147-4d7b-bb35-05d5e0310588"
      },
      "source": [
        "add(100) # add(a = 100)\n",
        "add(\"PA03\") # add(a = \"PA03\")"
      ],
      "execution_count": null,
      "outputs": [
        {
          "output_type": "stream",
          "text": [
            "100\n",
            "PA03\n"
          ],
          "name": "stdout"
        }
      ]
    },
    {
      "cell_type": "markdown",
      "metadata": {
        "id": "sQPTE3GOBaHH"
      },
      "source": [
        "---"
      ]
    },
    {
      "cell_type": "markdown",
      "metadata": {
        "id": "sCDRLNVJCJTa"
      },
      "source": [
        "- add() 함수를 정의"
      ]
    },
    {
      "cell_type": "code",
      "metadata": {
        "id": "_oJoOPWz-4rD"
      },
      "source": [
        "def add(a, b): \n",
        "    return a + b"
      ],
      "execution_count": null,
      "outputs": []
    },
    {
      "cell_type": "markdown",
      "metadata": {
        "id": "p8HDolH8CXLX"
      },
      "source": [
        "- add() 함수 호출"
      ]
    },
    {
      "cell_type": "code",
      "metadata": {
        "colab": {
          "base_uri": "https://localhost:8080/"
        },
        "id": "1SpNtBo1CT44",
        "outputId": "ea255ecd-362f-438c-9eab-af28df5634fa"
      },
      "source": [
        "\n",
        "# add() 함수를 사용\n",
        "a=3\n",
        "b=4\n",
        "c = add(a,b) #파라미터 값을 지정한뒤 호출\n",
        "print(c)\n",
        "d = add(3,4) #파라미터 인수를 직접 할당시켜서 호출\n",
        "print(d)\n",
        "\n",
        "x=[1,2,3]\n",
        "y=[4,5,6]\n",
        "z=x+y\n",
        "print(z)"
      ],
      "execution_count": null,
      "outputs": [
        {
          "output_type": "stream",
          "text": [
            "7\n",
            "7\n",
            "[1, 2, 3, 4, 5, 6]\n"
          ],
          "name": "stdout"
        }
      ]
    },
    {
      "cell_type": "markdown",
      "metadata": {
        "id": "gybqlJkPDWgW"
      },
      "source": [
        "### 함수를 호출해서 사용하면 더욱 편리\n",
        "- 아래 코드 처럼 두개의 인자를 받고 더하는 add 함수를 만들어 놓고 더하기를 해야할 때 호출 하면 매 코드 마다 더하기 연산자를 적을 필요성가 없어짐 \n",
        "---"
      ]
    },
    {
      "cell_type": "code",
      "metadata": {
        "colab": {
          "base_uri": "https://localhost:8080/"
        },
        "id": "LIlukeNsC_WQ",
        "outputId": "d5653ac8-2a3a-4720-ee3d-4f752dc00c81"
      },
      "source": [
        "z = add(x,y)\n",
        "print(z)"
      ],
      "execution_count": null,
      "outputs": [
        {
          "output_type": "stream",
          "text": [
            "[1, 2, 3, 4, 5, 6]\n"
          ],
          "name": "stdout"
        }
      ]
    },
    {
      "cell_type": "code",
      "metadata": {
        "colab": {
          "base_uri": "https://localhost:8080/"
        },
        "id": "kbmlb-7SDNlv",
        "outputId": "c2dc991a-fe4d-44b0-f199-e67f7736080e"
      },
      "source": [
        "w = add(\"Hello\", \"Python!\")\n",
        "print(w)"
      ],
      "execution_count": null,
      "outputs": [
        {
          "output_type": "stream",
          "text": [
            "HelloPython!\n"
          ],
          "name": "stdout"
        }
      ]
    },
    {
      "cell_type": "markdown",
      "metadata": {
        "id": "Le4hVlHtEIRs"
      },
      "source": [
        "---\n",
        "### 매개변수와 인수\n",
        "- 매개변수(파라미터)는 함수에 입력으로 전달된 값을 받는 변수\n",
        "- 인수는 함수를 호출할 때 전달하는 입력값을 의미\n",
        "\n"
      ]
    },
    {
      "cell_type": "code",
      "metadata": {
        "id": "1Ls2BLuo_4nJ"
      },
      "source": [
        "# add() 함수에서의 매개변수와 인수\n",
        "\"\"\"\n",
        "def add(a, b):  # a, b는 매개변수\n",
        "    return a+b\n",
        "print(add(3, 4))  # 3, 4는 인수\n",
        "\"\"\""
      ],
      "execution_count": null,
      "outputs": []
    },
    {
      "cell_type": "code",
      "metadata": {
        "colab": {
          "base_uri": "https://localhost:8080/"
        },
        "id": "H2AmxfdqGMsD",
        "outputId": "8218ff6a-36ff-4d0e-ab67-b7afe2625da2"
      },
      "source": [
        "print(add(a,b))\n",
        "print(add(10,50))\n",
        "#add 함수의 a, b 파라미터에 각각 10과 50이라는 인수를 전달한다"
      ],
      "execution_count": null,
      "outputs": [
        {
          "output_type": "stream",
          "text": [
            "7\n",
            "60\n"
          ],
          "name": "stdout"
        }
      ]
    },
    {
      "cell_type": "markdown",
      "metadata": {
        "id": "8OebK3ihF4mJ"
      },
      "source": [
        "- 다른 언어와 달리 파이썬은 인자를 생략할 수도 있고, 인자의 순서를 마음대로 변경하여 지정할 수 있다\n",
        "- 어떤인자를 받을지 이름과 갯수을 정하지 않고서도 함수를 정의 할 수 있다\n",
        "---"
      ]
    },
    {
      "cell_type": "markdown",
      "metadata": {
        "id": "mB4-IKjVGfTh"
      },
      "source": [
        "> 매개변수와 반환값이 존재 하는 함수\n",
        "---\n"
      ]
    },
    {
      "cell_type": "code",
      "metadata": {
        "colab": {
          "base_uri": "https://localhost:8080/"
        },
        "id": "OTvgzIuHAYnJ",
        "outputId": "f075914b-4d50-4d94-b4fe-30b4a283e668"
      },
      "source": [
        "\n",
        "\"\"\"\n",
        "def 함수이름(매개변수):\n",
        "    <수행할 문장>\n",
        "    ...\n",
        "    return 결과값\n",
        "\"\"\"\n",
        "\n",
        "def add2(a, b): \n",
        "    result = a + b \n",
        "    return result\n",
        "\n",
        "\n",
        "# 입력값과 결괏값이 있는 함수의 사용법\n",
        "# 결괏값을 받을 변수 = 함수이름(입력인수1, 입력인수2, ...)\n",
        "a = add2(3, 4)\n",
        "print(a)\n"
      ],
      "execution_count": null,
      "outputs": [
        {
          "output_type": "stream",
          "text": [
            "7\n"
          ],
          "name": "stdout"
        }
      ]
    },
    {
      "cell_type": "markdown",
      "metadata": {
        "id": "LLi-L0kDHYC-"
      },
      "source": [
        "> 매개 변수가 없는 함수\n",
        "---"
      ]
    },
    {
      "cell_type": "code",
      "metadata": {
        "colab": {
          "base_uri": "https://localhost:8080/"
        },
        "id": "wngLBrhWAa58",
        "outputId": "298ad0a8-9d56-43f3-a307-3a8816a221ef"
      },
      "source": [
        "def say(): \n",
        "    return 'Hi'\n",
        "\n",
        "\n",
        "# 입력값이 없는 함수의 사용법\n",
        "# 결괏값을 받을 변수 = 함수이름()\n",
        "a = say()\n",
        "print(a)\n"
      ],
      "execution_count": null,
      "outputs": [
        {
          "output_type": "stream",
          "text": [
            "Hi\n"
          ],
          "name": "stdout"
        }
      ]
    },
    {
      "cell_type": "markdown",
      "metadata": {
        "id": "hwKlTnPWHuVb"
      },
      "source": [
        "> 반환 값이 없는 함수\n",
        "---"
      ]
    },
    {
      "cell_type": "code",
      "metadata": {
        "colab": {
          "base_uri": "https://localhost:8080/"
        },
        "id": "HOxxrvn3Hbyk",
        "outputId": "fbb9863e-b693-4554-b21c-a9b619e78c90"
      },
      "source": [
        "def add3(a, b): \n",
        "    print(\"{}, {}의 합은 {}입니다.\".format(a, b, a+b)) \n",
        "#함수를 호출하면 출력하고 종료\n",
        "\n",
        "# 결괏값이 없는 함수의 사용법\n",
        "# 함수이름(입력인수1, 입력인수2, ...)\n",
        "add3(3, 4)\n",
        "\n",
        "a = add3(3, 4)\n",
        "print(a) # 반환값이 없기 때문에 None가 출력된다."
      ],
      "execution_count": null,
      "outputs": [
        {
          "output_type": "stream",
          "text": [
            "3, 4의 합은 7입니다.\n",
            "3, 4의 합은 7입니다.\n",
            "None\n"
          ],
          "name": "stdout"
        }
      ]
    },
    {
      "cell_type": "markdown",
      "metadata": {
        "id": "1xK-XkgAH3Bk"
      },
      "source": [
        ">매개변수, 반환 값 모두 없는 함수\n",
        "---"
      ]
    },
    {
      "cell_type": "code",
      "metadata": {
        "colab": {
          "base_uri": "https://localhost:8080/",
          "height": 34
        },
        "id": "--QssaB2Hx51",
        "outputId": "184f4e31-78d5-4e3b-a799-ed53ade6e012"
      },
      "source": [
        "def say2(): \n",
        "    print('Hi')\n",
        "\n",
        "\n",
        "# 입력값도 결괏값도 없는 함수의 사용법\n",
        "# 함수이름()\n",
        "say()\n"
      ],
      "execution_count": null,
      "outputs": [
        {
          "output_type": "execute_result",
          "data": {
            "application/vnd.google.colaboratory.intrinsic+json": {
              "type": "string"
            },
            "text/plain": [
              "'Hi'"
            ]
          },
          "metadata": {
            "tags": []
          },
          "execution_count": 22
        }
      ]
    },
    {
      "cell_type": "markdown",
      "metadata": {
        "id": "p1bfO7NSIwdz"
      },
      "source": [
        "> 매개변수의 값을 지정하여 호출하기\n",
        "---\n"
      ]
    },
    {
      "cell_type": "code",
      "metadata": {
        "colab": {
          "base_uri": "https://localhost:8080/"
        },
        "id": "pbkUhkNxH6lc",
        "outputId": "31c787c8-8d30-40cd-cb8c-67867f822e59"
      },
      "source": [
        "def add4(a, b):\n",
        "    return a+b\n",
        "\n",
        "\n",
        "result = add4(a=3, b=7)  # a에 3, b에 7을 전달\n",
        "#result라는 변수에 a=3,b=7이라는 매개변수를 지정한 함수 add4의 리턴 값을 저장.\n",
        "print(result)\n",
        "# 매개변수의 순서에 상관없이 사용\n",
        "result2 = add4(b=5, a=3)  # b에 5, a에 3을 전달\n",
        "print(result2)"
      ],
      "execution_count": null,
      "outputs": [
        {
          "output_type": "stream",
          "text": [
            "10\n",
            "8\n"
          ],
          "name": "stdout"
        }
      ]
    },
    {
      "cell_type": "code",
      "metadata": {
        "colab": {
          "base_uri": "https://localhost:8080/",
          "height": 134
        },
        "id": "huKNK2ZPJ_WU",
        "outputId": "8d346fd8-9bb4-481f-ccaa-ca8a4e9ab364"
      },
      "source": [
        "result3 = add4(a=3, 7)\n",
        "print(result3)\n",
        "# 파라미터를 지정할 때 하나만 지정하지말고 모두 지정을 해줘야한다"
      ],
      "execution_count": null,
      "outputs": [
        {
          "output_type": "error",
          "ename": "SyntaxError",
          "evalue": "ignored",
          "traceback": [
            "\u001b[0;36m  File \u001b[0;32m\"<ipython-input-28-3a8184ae1ecf>\"\u001b[0;36m, line \u001b[0;32m2\u001b[0m\n\u001b[0;31m    result3 = add4(a=3, 7)\u001b[0m\n\u001b[0m                       ^\u001b[0m\n\u001b[0;31mSyntaxError\u001b[0m\u001b[0;31m:\u001b[0m positional argument follows keyword argument\n"
          ]
        }
      ]
    },
    {
      "cell_type": "code",
      "metadata": {
        "colab": {
          "base_uri": "https://localhost:8080/"
        },
        "id": "UR5gzmYLKEau",
        "outputId": "873021ca-f647-4a90-aac7-2644d28e65b7"
      },
      "source": [
        "result3 = add4(a=3, b = 7)\n",
        "print(result3)"
      ],
      "execution_count": null,
      "outputs": [
        {
          "output_type": "stream",
          "text": [
            "10\n"
          ],
          "name": "stdout"
        }
      ]
    },
    {
      "cell_type": "markdown",
      "metadata": {
        "id": "PxCB6xdpJXv3"
      },
      "source": [
        "## 가변 인수 리스트 (*args)\n",
        "---\n",
        "- 어떤 함수를 설계할 때, 몇 개의 인수를 받게 될지 모를때 사용\n",
        "-가변으로 받아야 하는 인수를 배열이나 리스트로 선언 후 이를 넘긴다"
      ]
    },
    {
      "cell_type": "code",
      "metadata": {
        "id": "ICahslYqI1-e"
      },
      "source": [
        "\"\"\"\n",
        "def 함수이름(*매개변수): \n",
        "    <수행할 문장>\n",
        "    ...\n",
        "\"\"\"\n",
        "\n",
        "def add_many(*args): #여러개의 매개변수가 지정될수 있다는 의미\n",
        "    result = 0 \n",
        "    for i in args: \n",
        "        result = result + i \n",
        "    return result \n",
        "\n"
      ],
      "execution_count": null,
      "outputs": []
    },
    {
      "cell_type": "code",
      "metadata": {
        "colab": {
          "base_uri": "https://localhost:8080/"
        },
        "id": "Vc6ze-BILFLq",
        "outputId": "f7e9906f-6ca0-4193-f302-fbd0d9c205f9"
      },
      "source": [
        "add_many(1,2,3)"
      ],
      "execution_count": null,
      "outputs": [
        {
          "output_type": "execute_result",
          "data": {
            "text/plain": [
              "6"
            ]
          },
          "metadata": {
            "tags": []
          },
          "execution_count": 34
        }
      ]
    },
    {
      "cell_type": "code",
      "metadata": {
        "colab": {
          "base_uri": "https://localhost:8080/"
        },
        "id": "DqHzd01pLKVq",
        "outputId": "2bfdfef7-32bd-4688-96b1-c025e9d4a509"
      },
      "source": [
        "add_many(1, 2, 3, 4, 5, 6, 7, 8, 9)"
      ],
      "execution_count": null,
      "outputs": [
        {
          "output_type": "execute_result",
          "data": {
            "text/plain": [
              "45"
            ]
          },
          "metadata": {
            "tags": []
          },
          "execution_count": 35
        }
      ]
    },
    {
      "cell_type": "code",
      "metadata": {
        "colab": {
          "base_uri": "https://localhost:8080/"
        },
        "id": "FvVk-nhOKq49",
        "outputId": "48164384-183b-44ce-fd5b-202b6e48a2d1"
      },
      "source": [
        "result = add_many(1,2,3,4,5,6,7,8,9,10) #함수에 출력부분이 없기 때문에 print를 써서 출력을 해줘야 함.\n",
        "print(result)"
      ],
      "execution_count": null,
      "outputs": [
        {
          "output_type": "stream",
          "text": [
            "55\n"
          ],
          "name": "stdout"
        }
      ]
    },
    {
      "cell_type": "code",
      "metadata": {
        "colab": {
          "base_uri": "https://localhost:8080/"
        },
        "id": "Rxs_geGxLz1I",
        "outputId": "3619f970-05a7-4d48-f88f-ee204f30ce9c"
      },
      "source": [
        "def function(a, *args):\n",
        "    print(a, args)\n",
        "\n",
        "function(1)\n",
        "function(1,2)\n",
        "function(1,2,3,4,5)\n",
        "function(1,2,3,4,5,'a','b',[6,7,8],{'a':3, 'b':8})\n",
        "#함수를 정의할 때, 인수 리스트에 반드시 넘겨야하는 고정 인수들을 나열하고, 나머지는 튜플 형식으로 한꺼번에 받는다. \n",
        "# 첫 번째 인수 a는 항상 넘겨준대로 받고, 두 번째 인자부터는 인자들을 묶은 튜플 형식으로 받는다 =>넘겨주는 인자의 데이터 형이 무엇이든 상관없다. \n",
        "#일반적으로 function에서는 넘겨 받은 args의 길이를 카운트한 후 그에 맞는 동작을 하면 된다. \n"
      ],
      "execution_count": null,
      "outputs": [
        {
          "output_type": "stream",
          "text": [
            "1 ()\n",
            "1 (2,)\n",
            "1 (2, 3, 4, 5)\n",
            "1 (2, 3, 4, 5, 'a', 'b', [6, 7, 8], {'a': 3, 'b': 8})\n"
          ],
          "name": "stdout"
        }
      ]
    },
    {
      "cell_type": "code",
      "metadata": {
        "colab": {
          "base_uri": "https://localhost:8080/"
        },
        "id": "HCfGzRPnK8Nn",
        "outputId": "4c89eaac-62d6-4cab-8638-904ed4639c01"
      },
      "source": [
        "\n",
        "def add_mul(choice, *args):\n",
        "    if choice == \"add\":  #만약 choice라는 매개변수에 \"add\" 가 들어온다면\n",
        "        result = 0       #result = 0\n",
        "        for i in args:  #args 매개변수에 받은 값을 i에 전달\n",
        "            result = result + i  #result에 i 값 더함\n",
        "    elif choice == \"mul\":  #만약 choice라는 매개변수에 \"mul\"이 들어온다면\n",
        "        result = 1         # result  = 1\n",
        "        for i in args:     #args 매개변수에 받은 값을  i에 전달\n",
        "            result = result * i #result에 i 값 곱함\n",
        "    return result \n",
        "\n",
        "# add\n",
        "result = add_mul('add', 1,2,3,4,5)\n",
        "print(result)\n",
        "# multiply\n",
        "result = add_mul('mul', 1,2,3,4,5)\n",
        "print(result)\n"
      ],
      "execution_count": null,
      "outputs": [
        {
          "output_type": "stream",
          "text": [
            "15\n",
            "120\n"
          ],
          "name": "stdout"
        }
      ]
    },
    {
      "cell_type": "markdown",
      "metadata": {
        "id": "Zt9GvgU3NrPj"
      },
      "source": [
        "## 정의되지 않은 키워드 인수 처리(**kwargs)\n",
        "---\n",
        "- 정의되어 있지 않은 키워드 인수를 받으려면 함수를 정의할 때 마지막에 **kw 형식으로 작성\n",
        "- **kw는 {키:값}형태의 사전형식으로 전달되며, 키는 키워드(변수명)이 되고, 값은 키워드 인수로 전달된 값이다\n"
      ]
    },
    {
      "cell_type": "code",
      "metadata": {
        "colab": {
          "base_uri": "https://localhost:8080/"
        },
        "id": "61B_XKUXMiPB",
        "outputId": "40727024-fd8f-47d2-c111-213bc882194d"
      },
      "source": [
        "def print_kwargs(**kwargs):\n",
        "    print(kwargs)\n",
        "\n",
        "\n",
        "# print_kwargs 함수는 매개변수 kwargs를 출력하는 함수\n",
        "#\n",
        "print_kwargs(a=1)\n",
        "\n",
        "print_kwargs(name='foo', age=3)\n",
        "\n",
        "#\n",
        "# **kwargs처럼 매개변수 이름 앞에 **을 붙이면 매개변수 \n",
        "# kwargs는 딕셔너리가 되고 모든 key=value 형태의 결괏값이 \n",
        "# 그 딕셔너리에 저장된다.\n"
      ],
      "execution_count": null,
      "outputs": [
        {
          "output_type": "stream",
          "text": [
            "{'a': 1}\n",
            "{'name': 'foo', 'age': 3}\n"
          ],
          "name": "stdout"
        }
      ]
    },
    {
      "cell_type": "code",
      "metadata": {
        "colab": {
          "base_uri": "https://localhost:8080/"
        },
        "id": "ZgRDAr3IN_h7",
        "outputId": "2dcc8e97-76a1-42ec-db6d-bd5239150cde"
      },
      "source": [
        "def addAll(width, height, **kw):\n",
        "    all = width + height\n",
        "    print(width, height, kw)\n",
        "\n",
        "addAll(10, 20, size=15, depth=35)\n"
      ],
      "execution_count": null,
      "outputs": [
        {
          "output_type": "stream",
          "text": [
            "10 20 {'size': 15, 'depth': 35}\n"
          ],
          "name": "stdout"
        }
      ]
    },
    {
      "cell_type": "markdown",
      "metadata": {
        "id": "ApQAS9DGObBP"
      },
      "source": [
        "- 함수의 가인수로 정의된 width와 height외에는 kw에 사전형태로 전달됨.\n",
        "- 주의할 점은 사전 키워드 인수는 함수의 가인수 목록의 제일 끝에 작성되어야 한다.\n",
        "- 가변 인수 리스트보다도 뒤에 작성되어야 한다\n",
        "---\n"
      ]
    },
    {
      "cell_type": "markdown",
      "metadata": {
        "id": "ibZ0eRGUPBPj"
      },
      "source": [
        "### 함수의 결과값은 언제나 하나"
      ]
    },
    {
      "cell_type": "code",
      "metadata": {
        "colab": {
          "base_uri": "https://localhost:8080/"
        },
        "id": "xYTQrmCdN5Gb",
        "outputId": "e2379d09-9500-4c0a-a269-ed2920cfe09d"
      },
      "source": [
        "def add_and_mul(a,b): \n",
        "    return a+b, a*b\n",
        "\n",
        "\n",
        "# add_and_mul() 사용 1.\n",
        "result = add_and_mul(3,4) \n",
        "#리턴의 결과값을 여러개로 지정하더라도 모두 튜플 형식으로 묶여서 출력된다.\n",
        "print(result)\n"
      ],
      "execution_count": null,
      "outputs": [
        {
          "output_type": "stream",
          "text": [
            "함수의 결괏값은 언제나 하나\n",
            "(7, 12)\n"
          ],
          "name": "stdout"
        }
      ]
    },
    {
      "cell_type": "code",
      "metadata": {
        "colab": {
          "base_uri": "https://localhost:8080/"
        },
        "id": "-uHgu_r7O_Qu",
        "outputId": "2b4d13b4-9b01-4d73-f88b-f4d0ee18491c"
      },
      "source": [
        "# add_and_mul() 사용 2.\n",
        "result1, result2 = add_and_mul(3, 4)\n",
        "# result1 = 7 , result2 = 12  \n",
        "#리턴값이 두개일때 각각의 리턴값을 받을 수 있다.\n",
        "print(result1)\n",
        "print(result2)\n"
      ],
      "execution_count": null,
      "outputs": [
        {
          "output_type": "execute_result",
          "data": {
            "text/plain": [
              "(7, 12)"
            ]
          },
          "metadata": {
            "tags": []
          },
          "execution_count": 44
        }
      ]
    },
    {
      "cell_type": "markdown",
      "metadata": {
        "id": "MPfkfQ3WU59g"
      },
      "source": [
        "### 잘못된 함수 사용\n",
        "---"
      ]
    },
    {
      "cell_type": "code",
      "metadata": {
        "id": "Y7SFWrDIPfFx",
        "colab": {
          "base_uri": "https://localhost:8080/"
        },
        "outputId": "4ea8e36c-d716-4236-bb36-ec3330a23632"
      },
      "source": [
        "def add_and_mul2(a,b): \n",
        "    return a+b \n",
        "    return a*b  # Not working!!\n",
        "\n",
        "\n",
        "result = add_and_mul2(2, 3)\n",
        "print(result)\n",
        "#return 은 함수의 종료를 의미 하기 때문"
      ],
      "execution_count": 45,
      "outputs": [
        {
          "output_type": "stream",
          "text": [
            "잘못된 함수\n",
            "5\n"
          ],
          "name": "stdout"
        }
      ]
    },
    {
      "cell_type": "markdown",
      "metadata": {
        "id": "R2NYO09wVJJv"
      },
      "source": [
        "### return의 용도\n",
        "---"
      ]
    },
    {
      "cell_type": "code",
      "metadata": {
        "colab": {
          "base_uri": "https://localhost:8080/"
        },
        "id": "CHqqp5wBU_Dw",
        "outputId": "afca1c76-0c4b-41d9-ded7-62291ddc051c"
      },
      "source": [
        "def say_nick(nick): \n",
        "    if nick == \"바보\":  # 파라미터 nick이 \"바보\"일 경우 return을 만나 함수 종료\n",
        "        return \n",
        "    print(\"나의 별명은 {}입니다.\".format(nick)) #파라미터 nick이 \"바보\"가 아닐경우 출력\n",
        "\n",
        "\n",
        "say_nick(\"홍길동\")\n",
        "say_nick(\"바보\")\n"
      ],
      "execution_count": 47,
      "outputs": [
        {
          "output_type": "stream",
          "text": [
            "나의 별명은 홍길동입니다.\n"
          ],
          "name": "stdout"
        }
      ]
    },
    {
      "cell_type": "markdown",
      "metadata": {
        "id": "Abl67SmUV9KY"
      },
      "source": [
        "### 매개변수에 초깃값 미리 설정하기\n",
        "---"
      ]
    },
    {
      "cell_type": "code",
      "metadata": {
        "colab": {
          "base_uri": "https://localhost:8080/"
        },
        "id": "bfG55X44VM3L",
        "outputId": "5eb62f96-de7a-43d6-dbb5-b79a121718e6"
      },
      "source": [
        "def say_myself(name, old, man=True): #boolean으로 true이면 man이되도록\n",
        "    print(\"나의 이름은 %s 입니다.\" % name) \n",
        "    print(\"나이는 %d살입니다.\" % old) \n",
        "    if man: \n",
        "        print(\"남자입니다.\")\n",
        "    else: \n",
        "        print(\"여자입니다.\")\n",
        "    \n",
        "\n",
        "say_myself(\"박응용\", 27) #True로 처리되어있기 때문에 값이 없더라도 가능\n",
        "say_myself(\"박응용\", 27, True)\n",
        "\n",
        "say_myself(\"박응용\", 27, False)\n"
      ],
      "execution_count": 48,
      "outputs": [
        {
          "output_type": "stream",
          "text": [
            "나의 이름은 박응용 입니다.\n",
            "나이는 27살입니다.\n",
            "남자입니다.\n",
            "나의 이름은 박응용 입니다.\n",
            "나이는 27살입니다.\n",
            "남자입니다.\n",
            "나의 이름은 박응용 입니다.\n",
            "나이는 27살입니다.\n",
            "여자입니다.\n"
          ],
          "name": "stdout"
        }
      ]
    },
    {
      "cell_type": "markdown",
      "metadata": {
        "id": "YzGN5z11W5ek"
      },
      "source": [
        "### 오류(키워드 형태의 매개변수를 맨뒤에 위치 시키지 않았을 때.)\n",
        "---"
      ]
    },
    {
      "cell_type": "code",
      "metadata": {
        "id": "u8CEXQaNWRjL"
      },
      "source": [
        "def say_myself2(name, man=True, old): #키워드 형태로 지정한 매개변수는 무조건 맨 뒤에 위치해야 한다.\n",
        "    print(\"나의 이름은 %s 입니다.\" % name) \n",
        "    print(\"나이는 %d살입니다.\" % old) \n",
        "    if man: \n",
        "        print(\"남자입니다.\") \n",
        "    else:\n",
        "        print(\"여자입니다.\")\n",
        "\n",
        "# 초깃값을 설정해 놓은 매개변수 뒤에 \n",
        "# 초깃값을 설정해 놓지 않은 매개변수는 사용할 수 없다\n",
        "# 초기화시키고 싶은 매개변수를 항상 뒤쪽에 놓는다.\n",
        "# 키워드형식의 매개변수는 항상 뒤에 지정."
      ],
      "execution_count": null,
      "outputs": []
    },
    {
      "cell_type": "code",
      "metadata": {
        "colab": {
          "base_uri": "https://localhost:8080/"
        },
        "id": "YSFX84L8XCjP",
        "outputId": "d1e97599-d916-40b8-91fc-5eb52bc8ca55"
      },
      "source": [
        "def say_myself2(name, old, man=True): \n",
        "    print(\"나의 이름은 %s 입니다.\" % name) \n",
        "    print(\"나이는 %d살입니다.\" % old) \n",
        "    if man: \n",
        "        print(\"남자입니다.\") \n",
        "    else:\n",
        "        print(\"여자입니다.\")\n",
        "\n",
        "say_myself2(\"ssgbeom1\",23)"
      ],
      "execution_count": 51,
      "outputs": [
        {
          "output_type": "stream",
          "text": [
            "나의 이름은 ssgbeom1 입니다.\n",
            "나이는 23살입니다.\n",
            "남자입니다.\n"
          ],
          "name": "stdout"
        }
      ]
    },
    {
      "cell_type": "markdown",
      "metadata": {
        "id": "ZFhNhSZpXdCB"
      },
      "source": [
        "### 함수 안에서 선언한 변수의 효력 범위\n",
        "---\n",
        "- scope of a variable"
      ]
    },
    {
      "cell_type": "code",
      "metadata": {
        "colab": {
          "base_uri": "https://localhost:8080/"
        },
        "id": "kH5WnYXKWpwY",
        "outputId": "ef569bfb-629d-417e-c1c4-0c7542e0436f"
      },
      "source": [
        "# 전역변수\n",
        "# 지역 변수, 자동 변수\n",
        "\n",
        "\n",
        "a = 1   #함수 밖에 지정되었기 때문에 전역 변수\n",
        "def vartest(a): # 지역변수(매개변수) 함수내부에서만 작동\n",
        "    a = a +1\n",
        "#함수밖에 있는 변수 a 와 함수내부에 있는 변수 a 는 다른것이다\n",
        "vartest(a) # 전역변수 a 가 출력된다 함수 내부의 a 는 2가 된다\n",
        "print(a)\n"
      ],
      "execution_count": 53,
      "outputs": [
        {
          "output_type": "stream",
          "text": [
            "1\n"
          ],
          "name": "stdout"
        }
      ]
    },
    {
      "cell_type": "markdown",
      "metadata": {
        "id": "3TZy1jHmYyNL"
      },
      "source": [
        "> 함수 내부의 변수 a 를 출력하는 방법\n",
        "- 함수 내부에서 출력해준다"
      ]
    },
    {
      "cell_type": "code",
      "metadata": {
        "colab": {
          "base_uri": "https://localhost:8080/"
        },
        "id": "u0WGof4WYZ-I",
        "outputId": "b107cd42-e4cf-4d78-d325-0d0e800c0a20"
      },
      "source": [
        "a = 1\n",
        "def vartest(a): \n",
        "    a = a +1\n",
        "    print(\"지역변수 a = {} \".format(a))\n",
        "\n",
        "vartest(a) \n",
        "print(\"전역변수 a = {}\".format(a))"
      ],
      "execution_count": 57,
      "outputs": [
        {
          "output_type": "stream",
          "text": [
            "지역변수 a = 2 \n",
            "전역변수 a = 1\n"
          ],
          "name": "stdout"
        }
      ]
    },
    {
      "cell_type": "markdown",
      "metadata": {
        "id": "BSy81x5waFUy"
      },
      "source": [
        "### 오류 (범위가 잘못 지정되었을 때.)\n",
        "---\n"
      ]
    },
    {
      "cell_type": "code",
      "metadata": {
        "id": "-SietQOnXkqJ"
      },
      "source": [
        "\n",
        "# vartest_error.py\n",
        "def vartest2(zz):\n",
        "    zz = zz + 1\n",
        "\n",
        "vartest2(3)\n",
        "# print(zz)  함수 내부에서 사용되는 zz 변수는 함수 내부에서만 이용되고 함수밖에서 따로 zz 라는 변수가 설정되어있지않아 오류가 난다.\n"
      ],
      "execution_count": null,
      "outputs": []
    },
    {
      "cell_type": "markdown",
      "metadata": {
        "id": "5KmKOSiZaQA4"
      },
      "source": [
        "### 함수 안에서 함수 밖의 변수를 변경하는 방법"
      ]
    },
    {
      "cell_type": "markdown",
      "metadata": {
        "id": "wsgAow1jac7n"
      },
      "source": [
        ">return 사용하기"
      ]
    },
    {
      "cell_type": "code",
      "metadata": {
        "colab": {
          "base_uri": "https://localhost:8080/"
        },
        "id": "5zf08sSGXZ1R",
        "outputId": "c55da6b9-3d70-45f9-e67d-93243c1c5461"
      },
      "source": [
        "\n",
        "a = 1 \n",
        "def vartest3(a): \n",
        "    a = a +1 \n",
        "    return a\n",
        "\n",
        "a = vartest3(a) \n",
        "print(a)\n"
      ],
      "execution_count": 61,
      "outputs": [
        {
          "output_type": "stream",
          "text": [
            "함수 안에서 함수 밖의 변수를 변경하는 방법\n",
            "2\n"
          ],
          "name": "stdout"
        }
      ]
    },
    {
      "cell_type": "markdown",
      "metadata": {
        "id": "TrY_R9_rakl9"
      },
      "source": [
        ">global 명령어 사용하기"
      ]
    },
    {
      "cell_type": "code",
      "metadata": {
        "colab": {
          "base_uri": "https://localhost:8080/"
        },
        "id": "VGfozmQ-aOid",
        "outputId": "e10e4be7-8887-4382-895f-c36ce55f3e25"
      },
      "source": [
        "#가능하면 사용하지 않는게 좋다.\n",
        "a = 1 \n",
        "def vartest4(): \n",
        "    global a  #전역변수를 함수내부에서 사용하겠다.\n",
        "    a = a+1\n",
        "\n",
        "vartest4() \n",
        "print(a)\n",
        "\n"
      ],
      "execution_count": 62,
      "outputs": [
        {
          "output_type": "stream",
          "text": [
            "2\n"
          ],
          "name": "stdout"
        }
      ]
    },
    {
      "cell_type": "markdown",
      "metadata": {
        "id": "GxwwgIgBa9j6"
      },
      "source": [
        "## lambda(람다) 함수 정의\n",
        "---\n",
        "- 이름 없는 함수를 정의\n",
        "- 사용법 => lambda 인자 : 표현식\n",
        "- lambda는 함수를 생성할 때 사용하는 예약어로 def와 동일한 역할을 한다. \n",
        "- 코드가 간결해지고 메모리가 절약된다."
      ]
    },
    {
      "cell_type": "code",
      "metadata": {
        "colab": {
          "base_uri": "https://localhost:8080/"
        },
        "id": "YQZORp1kakBF",
        "outputId": "009305e2-702b-4a35-f228-7568e2abdfc9"
      },
      "source": [
        "add = lambda a, b: a+b #add함수 = (람다) 받을 파라미터: 리턴값\n",
        "\n",
        "result = add(3, 4)\n",
        "print(result)\n",
        "\n",
        "# lambda 예약어로 만든 함수는 return 명령어가 없어도 결괏값을 돌려준다.\n"
      ],
      "execution_count": 80,
      "outputs": [
        {
          "output_type": "stream",
          "text": [
            "7\n"
          ],
          "name": "stdout"
        }
      ]
    },
    {
      "cell_type": "markdown",
      "metadata": {
        "id": "Y0KpDsiAbdM6"
      },
      "source": [
        ">lambda함수의 응용"
      ]
    },
    {
      "cell_type": "code",
      "metadata": {
        "colab": {
          "base_uri": "https://localhost:8080/"
        },
        "id": "M6-CKFV2bHeU",
        "outputId": "e5030595-45da-4345-85f1-80e202f7c4bc"
      },
      "source": [
        "\n",
        "################################\n",
        "# lambda 함수의 응용\n",
        "#\n",
        "models = ['K-3000', 'N-1000', 'T-2000', 'X-5000']\n",
        "sorted(models, key=lambda x: x[-4:])\n",
        "\n",
        "# So cool!!!\n"
      ],
      "execution_count": 64,
      "outputs": [
        {
          "output_type": "execute_result",
          "data": {
            "text/plain": [
              "['N-1000', 'T-2000', 'K-3000', 'X-5000']"
            ]
          },
          "metadata": {
            "tags": []
          },
          "execution_count": 64
        }
      ]
    },
    {
      "cell_type": "code",
      "metadata": {
        "id": "Nn87uHUqtW64",
        "colab": {
          "base_uri": "https://localhost:8080/",
          "height": 35
        },
        "outputId": "e5188d96-dd3e-45d0-d9f5-1c694b962ebf"
      },
      "source": [
        "# vartest.py\n",
        "a = 1\n",
        "def vartest(a):\n",
        "    a = a +1\n",
        "    # print(a)\n",
        "\n",
        "vartest(a)\n",
        "print(a)"
      ],
      "execution_count": null,
      "outputs": [
        {
          "output_type": "stream",
          "text": [
            "1\n"
          ],
          "name": "stdout"
        }
      ]
    },
    {
      "cell_type": "code",
      "metadata": {
        "id": "0Y0fMfkPtW62",
        "colab": {
          "base_uri": "https://localhost:8080/"
        },
        "outputId": "4c652c25-052f-4d8d-fb6f-3140998a982f"
      },
      "source": [
        "# function_test.py\n",
        "\n",
        "# scope_test()\n",
        "x = 5\n",
        "\n",
        "\n",
        "def scope_test():\n",
        "    print(x)\n",
        "    print(x+5)\n",
        "    #x += 5\n",
        "\n",
        "\n",
        "scope_test()\n",
        "\n",
        "#*args : multiple parameters\n"
      ],
      "execution_count": 70,
      "outputs": [
        {
          "output_type": "stream",
          "text": [
            "5\n",
            "10\n"
          ],
          "name": "stdout"
        }
      ]
    },
    {
      "cell_type": "code",
      "metadata": {
        "colab": {
          "base_uri": "https://localhost:8080/"
        },
        "id": "xU6plyFob3x3",
        "outputId": "3f74bf12-3bce-4f5c-c682-83fde1f9f653"
      },
      "source": [
        "\n",
        "def args_test(*args):\n",
        "    print(type(args))\n",
        "    print(args)\n",
        "    for arg in args:\n",
        "        print(arg)\n",
        "\n",
        "args_test(1, 2, 3, 4)\n",
        "args_test(list(range(4)))\n",
        "\n",
        "# **kawargs : keyword arguments\n"
      ],
      "execution_count": 66,
      "outputs": [
        {
          "output_type": "stream",
          "text": [
            "<class 'tuple'>\n",
            "(1, 2, 3, 4)\n",
            "1\n",
            "2\n",
            "3\n",
            "4\n",
            "<class 'tuple'>\n",
            "([0, 1, 2, 3],)\n",
            "[0, 1, 2, 3]\n"
          ],
          "name": "stdout"
        }
      ]
    },
    {
      "cell_type": "code",
      "metadata": {
        "colab": {
          "base_uri": "https://localhost:8080/"
        },
        "id": "pjGA3keXb4jI",
        "outputId": "5751d3b9-a942-4a5a-bf14-40264326de3f"
      },
      "source": [
        "\n",
        "\n",
        "def kwarg_test(**kwargs):\n",
        "    print(type(kwargs))\n",
        "    print(kwargs)\n",
        "    for item in kwargs.items():\n",
        "        print(item)\n",
        "\n",
        "\n",
        "kwarg_test(a=1, b='hi')\n",
        "kwarg_test(x=[1,2,3], y='Hello')\n"
      ],
      "execution_count": 65,
      "outputs": [
        {
          "output_type": "stream",
          "text": [
            "<class 'dict'>\n",
            "{'a': 1, 'b': 'hi'}\n",
            "('a', 1)\n",
            "('b', 'hi')\n",
            "<class 'dict'>\n",
            "{'x': [1, 2, 3], 'y': 'Hello'}\n",
            "('x', [1, 2, 3])\n",
            "('y', 'Hello')\n"
          ],
          "name": "stdout"
        }
      ]
    },
    {
      "cell_type": "markdown",
      "metadata": {
        "id": "aiBB3U0ge03F"
      },
      "source": [
        "## 도전 코딩\n",
        "- A 학급에 총 10명의 학생이 있다. 이 학생들의 중간고사 점수는 다음과 같다.\n",
        "\n",
        "- A = [70, 60, 55, 75, 95, 90, 80, 80, 85, 100]\n",
        "\n",
        "> 함수를 사용하여 A 학급의 평균 점수를 구해 보자.\n",
        ">> 함수명: average_class(A)\n"
      ]
    },
    {
      "cell_type": "code",
      "metadata": {
        "id": "fGBlcLGN-3pd",
        "colab": {
          "base_uri": "https://localhost:8080/"
        },
        "outputId": "9e591674-1562-45bb-ab8f-b96555507479"
      },
      "source": [
        "def average_class(A):\n",
        "    total = 0\n",
        "    for i in A:\n",
        "        total += i\n",
        "    return total/len(A)\n",
        "\n",
        "A = [70, 60, 55, 75, 95, 90, 80, 80, 85, 100]\n",
        "print(\"학급의 평균 점수는 {}점 입니다\".format(round(average_class(A))))\n",
        "\n"
      ],
      "execution_count": 79,
      "outputs": [
        {
          "output_type": "stream",
          "text": [
            "학급의 평균 점수는 79점 입니다\n"
          ],
          "name": "stdout"
        }
      ]
    },
    {
      "cell_type": "code",
      "metadata": {
        "id": "TYhOk8ofcblR"
      },
      "source": [
        ""
      ],
      "execution_count": null,
      "outputs": []
    }
  ]
}