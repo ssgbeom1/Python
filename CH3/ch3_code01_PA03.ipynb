{
  "nbformat": 4,
  "nbformat_minor": 0,
  "metadata": {
    "colab": {
      "name": "ch3_code01-PA03.ipynb",
      "provenance": [],
      "collapsed_sections": [],
      "toc_visible": true,
      "include_colab_link": true
    },
    "kernelspec": {
      "display_name": "Python 3",
      "language": "python",
      "name": "python3"
    },
    "language_info": {
      "codemirror_mode": {
        "name": "ipython",
        "version": 3
      },
      "file_extension": ".py",
      "mimetype": "text/x-python",
      "name": "python",
      "nbconvert_exporter": "python",
      "pygments_lexer": "ipython3",
      "version": "3.7.5"
    }
  },
  "cells": [
    {
      "cell_type": "markdown",
      "metadata": {
        "id": "view-in-github",
        "colab_type": "text"
      },
      "source": [
        "<a href=\"https://colab.research.google.com/github/ssgbeom1/pa03/blob/main/CH3/ch3_code01_PA03.ipynb\" target=\"_parent\"><img src=\"https://colab.research.google.com/assets/colab-badge.svg\" alt=\"Open In Colab\"/></a>"
      ]
    },
    {
      "cell_type": "markdown",
      "metadata": {
        "id": "QyoKlmBhWNq7"
      },
      "source": [
        "# 파이썬활용\n",
        "## 구글 코랩에서 코딩\n",
        "- 작업 노트는 구글드라이브에 저장\n",
        "- PA03\n",
        "- 2021.04.19"
      ]
    },
    {
      "cell_type": "markdown",
      "metadata": {
        "id": "H4jNE-BMAK3f"
      },
      "source": [
        "# ch3_code01-PA03.ipynb\n",
        "## PA03 \n",
        "- 조건문: if - elif - else\n",
        "    - 조건식\n",
        "        - 비교연산자(<, >, ==, !=, >=, <=) 사용\n",
        "        - 복합 조건식: or, and, not\n",
        "        - 조건식: in, not in, pass\n",
        "        - 단축조건식: 한 줄 코드 조건식\n",
        "- 반복문: while\n",
        "    - break\n",
        "    - continue"
      ]
    },
    {
      "cell_type": "markdown",
      "metadata": {
        "id": "tFaJXxSYqlPp"
      },
      "source": [
        "### 코드셀 분할 단축키\n",
        "- how to do ?\n",
        "  - 도구 -> 단축키 \n",
        "  -커서에서 분할(ctrl + = 눌러주기)"
      ]
    },
    {
      "cell_type": "markdown",
      "metadata": {
        "id": "-QD9Cv8MYlXS"
      },
      "source": [
        "### if문은 어떻게 사용?"
      ]
    },
    {
      "cell_type": "code",
      "metadata": {
        "id": "hXPcvn1CtW6z",
        "colab": {
          "base_uri": "https://localhost:8080/"
        },
        "outputId": "f99fca75-e78a-4eda-8ba4-ccf6b162ae02"
      },
      "source": [
        "# ch3_01_if_else.py\n",
        "#\n",
        "print(\"if문은 어떻게 사용?\")\n",
        "money = False #bool type\n",
        "if money:\n",
        "    print(\"택시를 타고 가라\")\n",
        "else:\n",
        "    print(\"걸어 가라\")\n",
        "\n"
      ],
      "execution_count": null,
      "outputs": [
        {
          "output_type": "stream",
          "text": [
            "if문은 어떻게 사용?\n",
            "걸어 가라\n"
          ],
          "name": "stdout"
        }
      ]
    },
    {
      "cell_type": "code",
      "metadata": {
        "colab": {
          "base_uri": "https://localhost:8080/"
        },
        "id": "piBbVfW_BX3q",
        "outputId": "1bc031c1-8642-4abb-fbed-e85c293f266f"
      },
      "source": [
        "money = False\n",
        "if money:    #True일 경우\n",
        "    print(\"택시 타세요.\")\n",
        "    print(\"집으로...\")\n",
        "else:        #False일 경우\n",
        "    print(\"방콕!\")\n"
      ],
      "execution_count": null,
      "outputs": [
        {
          "output_type": "stream",
          "text": [
            "방콕!\n"
          ],
          "name": "stdout"
        }
      ]
    },
    {
      "cell_type": "markdown",
      "metadata": {
        "id": "Cre07Tr9rcl-"
      },
      "source": [
        "---"
      ]
    },
    {
      "cell_type": "markdown",
      "metadata": {
        "id": "84BuAhz2w7AH"
      },
      "source": [
        "### if문의 기본 구조"
      ]
    },
    {
      "cell_type": "code",
      "metadata": {
        "colab": {
          "base_uri": "https://localhost:8080/",
          "height": 52
        },
        "id": "7Ew0P1jIwPyl",
        "outputId": "4de34508-f906-4806-88ff-bfcdc75fbe8f"
      },
      "source": [
        "print(\"if문의 기본 구조\")\n",
        "'''\n",
        "if 조건문(bool 값으로 결정되는 식):\n",
        "    수행할 문장1\n",
        "    수행할 문장2\n",
        "    ...\n",
        "else:\n",
        "    수행할 문장A\n",
        "    수행할 문장B\n",
        "    ...\n",
        "'''\n",
        "#\n"
      ],
      "execution_count": null,
      "outputs": [
        {
          "output_type": "stream",
          "text": [
            "if문의 기본 구조\n"
          ],
          "name": "stdout"
        },
        {
          "output_type": "execute_result",
          "data": {
            "application/vnd.google.colaboratory.intrinsic+json": {
              "type": "string"
            },
            "text/plain": [
              "'\\nif 조건문(bool 값으로 결정되는 식):\\n    수행할 문장1\\n    수행할 문장2\\n    ...\\nelse:\\n    수행할 문장A\\n    수행할 문장B\\n    ...\\n'"
            ]
          },
          "metadata": {
            "tags": []
          },
          "execution_count": 2
        }
      ]
    },
    {
      "cell_type": "markdown",
      "metadata": {
        "id": "nPQHTuRfreMc"
      },
      "source": [
        "---"
      ]
    },
    {
      "cell_type": "markdown",
      "metadata": {
        "id": "R_srZD3fyYP1"
      },
      "source": [
        "## 들여쓰기\n",
        "> Code scope(코드 적용 범위)\n",
        "- C언어와 JAVA는 중괄호 {...} 안에 코드블록이 지정되지만 Pythone은 들여쓰기(indent) 로 코드블록이 지정됨. -4칸-"
      ]
    },
    {
      "cell_type": "code",
      "metadata": {
        "id": "rVd8ZKinwr_k",
        "colab": {
          "base_uri": "https://localhost:8080/"
        },
        "outputId": "12a63f3e-b232-4008-ec0d-632767f2804b"
      },
      "source": [
        "print(\"들여 쓰기\")\n",
        "# 예-1\n",
        "money = True\n",
        "if money:\n",
        "    print(\"택시를\")\n",
        "#print(\"타고\") IndentationError: unexpected indent 들여쓰기가 이루어 지지 않았기 때문에 오류가 발생.\n",
        "    print(\"가라\")\n",
        "\n",
        "\n",
        "#\n",
        "# 예-2\n",
        "money = True\n",
        "if money:\n",
        "    print(\"택시를\")\n",
        "    print(\"타고\")\n",
        "#       print(\"가라\") IndentationError: unexpected indent 들여쓰기가 이루어 지지 않았기 때문에 오류가 발생.\n",
        "    \n"
      ],
      "execution_count": null,
      "outputs": [
        {
          "output_type": "stream",
          "text": [
            "들여 쓰기\n",
            "택시를\n",
            "가라\n",
            "택시를\n",
            "타고\n"
          ],
          "name": "stdout"
        }
      ]
    },
    {
      "cell_type": "markdown",
      "metadata": {
        "id": "lRqIClLbrL5k"
      },
      "source": [
        "---"
      ]
    },
    {
      "cell_type": "markdown",
      "metadata": {
        "id": "t4Srj9VADD2Z"
      },
      "source": [
        "## 조건식: 비교연산자\n",
        "- 조건문 다음에 콜론(:)을 잊지 말자!\n",
        "- 비교연산자(<, >, ==, !=, >=, <=)를 쓰는 방법"
      ]
    },
    {
      "cell_type": "code",
      "metadata": {
        "id": "hcQ2tPkDyKeX",
        "colab": {
          "base_uri": "https://localhost:8080/"
        },
        "outputId": "81c55699-0a6e-4967-9142-f6a18efec603"
      },
      "source": [
        "print(\"조건식: 비교연산자\")\n",
        "x=3\n",
        "y=2\n",
        "print(\"x > y = {}\".format(x>y)) #True\n",
        "\n",
        "print(\"x < y = {}\".format(x<y)) #False\n",
        "print(\"x == y = {}\".format(x==y)) #False\n",
        "print(\"x != y = {}\".format(x!=y)) #True"
      ],
      "execution_count": null,
      "outputs": [
        {
          "output_type": "stream",
          "text": [
            "조건식: 비교연산자\n",
            "x > y = True\n",
            "x < y = False\n",
            "x == y = False\n",
            "x != y = True\n"
          ],
          "name": "stdout"
        }
      ]
    },
    {
      "cell_type": "markdown",
      "metadata": {
        "id": "ouFGyRwKwnyX"
      },
      "source": [
        "---"
      ]
    },
    {
      "cell_type": "markdown",
      "metadata": {
        "id": "drcd6O_nEZ7V"
      },
      "source": [
        "## 조건식 만들기"
      ]
    },
    {
      "cell_type": "code",
      "metadata": {
        "colab": {
          "base_uri": "https://localhost:8080/"
        },
        "id": "9j5KxTOxDIpY",
        "outputId": "f7865997-9514-477d-ef73-02994afac352"
      },
      "source": [
        "# \"만약 3000원 이상의 돈을 가지고 있으면 택시를 타고 그렇지 않으면 걸어 가라.\"\n",
        "money = 2000\n",
        "if money >= 3000:\n",
        "    print(\"택시를 타고 가라\")\n",
        "else:\n",
        "    print(\"걸어가라\")"
      ],
      "execution_count": null,
      "outputs": [
        {
          "output_type": "stream",
          "text": [
            "걸어가라\n"
          ],
          "name": "stdout"
        }
      ]
    },
    {
      "cell_type": "code",
      "metadata": {
        "colab": {
          "base_uri": "https://localhost:8080/"
        },
        "id": "pftPZd4AEi-l",
        "outputId": "388b5671-5e8d-43ed-a5b8-714dc694f012"
      },
      "source": [
        "money, money > 3000\n"
      ],
      "execution_count": null,
      "outputs": [
        {
          "output_type": "execute_result",
          "data": {
            "text/plain": [
              "(2000, False)"
            ]
          },
          "metadata": {
            "tags": []
          },
          "execution_count": 21
        }
      ]
    },
    {
      "cell_type": "markdown",
      "metadata": {
        "id": "mSIKEddGrjBe"
      },
      "source": [
        "---"
      ]
    },
    {
      "cell_type": "markdown",
      "metadata": {
        "id": "OqByQVAPFh6S"
      },
      "source": [
        "##  복합 조건식: or, and, not\n",
        "### 연산자 설명\n",
        "- x or y  :\tx와 y 둘중에 하나만 참이면 참이다\n",
        "- x and y :\tx와 y 모두 참이어야 참이다\n",
        "- not x\t  : x가 거짓이면 참이다"
      ]
    },
    {
      "cell_type": "markdown",
      "metadata": {
        "id": "PHsOlzsGGTAe"
      },
      "source": [
        "## or 복합 조건식 이용\n",
        "> \"돈이 3000원 이상 있거나 카드가 있다면 택시를 타고 그렇지 않으면 걸어 가라.\""
      ]
    },
    {
      "cell_type": "code",
      "metadata": {
        "id": "45MgmuImEXA4",
        "colab": {
          "base_uri": "https://localhost:8080/"
        },
        "outputId": "86173cf1-ce75-42f2-aaf6-392b5d7a4bc7"
      },
      "source": [
        "money = 2000\n",
        "card = True\n",
        "if money >= 3000 or card: #둘중 한가지 조건이라도 충족하면 True, 두 조건 모두 충족하지 않을 때 False\n",
        "    print(\"택시를 타고 가라\")\n",
        "else:\n",
        "    print(\"걸어가라\")"
      ],
      "execution_count": null,
      "outputs": [
        {
          "output_type": "stream",
          "text": [
            "택시를 타고 가라\n"
          ],
          "name": "stdout"
        }
      ]
    },
    {
      "cell_type": "markdown",
      "metadata": {
        "id": "hkCtatSKIBAQ"
      },
      "source": [
        "## and 복합 조건식 이용\n",
        "> \"돈이 3000원 이상 있고 카드가 있으면 택시를 타고 그렇지 않으면 걸어 가라.\""
      ]
    },
    {
      "cell_type": "code",
      "metadata": {
        "id": "1r6SHz4VG7q3",
        "colab": {
          "base_uri": "https://localhost:8080/"
        },
        "outputId": "196a8f3c-9071-47ca-f062-5c7ba3b14457"
      },
      "source": [
        "money = 2000\n",
        "card = True\n",
        "if money >= 3000 and card: #두 조건 모두 충족시 True, 하나라도 충족 되지 않으면 False\n",
        "    print(\"택시를 타고 가라\")\n",
        "else:\n",
        "    print(\"걸어가라\")"
      ],
      "execution_count": null,
      "outputs": [
        {
          "output_type": "stream",
          "text": [
            "걸어가라\n"
          ],
          "name": "stdout"
        }
      ]
    },
    {
      "cell_type": "markdown",
      "metadata": {
        "id": "hGMXyaylrlOc"
      },
      "source": [
        "---"
      ]
    },
    {
      "cell_type": "markdown",
      "metadata": {
        "id": "DHOvweaQIM4r"
      },
      "source": [
        "## 조건식:\n",
        "> in 연산자와 not in  연산자를 사용하여 특정한 문자열 안에 찾고자 하는 문자열이 있는지 확인.\n",
        "- in    \n",
        "- not in\n",
        "    "
      ]
    },
    {
      "cell_type": "markdown",
      "metadata": {
        "id": "SpCqYRyInv9g"
      },
      "source": [
        "### 리스트(list)\n"
      ]
    },
    {
      "cell_type": "code",
      "metadata": {
        "colab": {
          "base_uri": "https://localhost:8080/"
        },
        "id": "raFYHCtTn4gD",
        "outputId": "7fe77ce1-2541-41c9-c8c4-dce08f3f429b"
      },
      "source": [
        "# in \n",
        "if 'a' in ['a','b','c']:\n",
        "    print(True)\n",
        "else:\n",
        "    print(False)\n",
        "\n",
        "print(1 in [1, 2, 3])\n",
        "\n",
        "\n",
        "# not in\n",
        "if 'd' not in ['a','b','c']:\n",
        "    print(True)\n",
        "else:\n",
        "    print(False)\n",
        "\n",
        "1 not in [1, 2, 3]"
      ],
      "execution_count": null,
      "outputs": [
        {
          "output_type": "stream",
          "text": [
            "True\n",
            "True\n",
            "True\n"
          ],
          "name": "stdout"
        },
        {
          "output_type": "execute_result",
          "data": {
            "text/plain": [
              "False"
            ]
          },
          "metadata": {
            "tags": []
          },
          "execution_count": 19
        }
      ]
    },
    {
      "cell_type": "markdown",
      "metadata": {
        "id": "urvQVoM0oOm7"
      },
      "source": [
        "### 튜플(tuple)"
      ]
    },
    {
      "cell_type": "code",
      "metadata": {
        "colab": {
          "base_uri": "https://localhost:8080/"
        },
        "id": "2rR3c-NQoe1V",
        "outputId": "b4943f5f-7e99-425e-fc80-a5e6735fcf1d"
      },
      "source": [
        "# in\n",
        "if 'a' in ('a','b','c'):\n",
        "\tprint(True)\n",
        "else:\n",
        "\tprint(False)\n",
        "\n",
        "\n",
        "# not in\n",
        "if 'd' not in ('a','b','c'):\n",
        "\tprint(True)\n",
        "else:\n",
        "\tprint(False)\n",
        " \n",
        "'a' in ('a', 'b', 'c')\n",
        "# a in ('a', 'b', 'c') NameError: name 'a' is not defined =>문자열 a 가 아닌 변수 a 로 인식"
      ],
      "execution_count": null,
      "outputs": [
        {
          "output_type": "stream",
          "text": [
            "True\n",
            "True\n"
          ],
          "name": "stdout"
        },
        {
          "output_type": "execute_result",
          "data": {
            "text/plain": [
              "True"
            ]
          },
          "metadata": {
            "tags": []
          },
          "execution_count": 24
        }
      ]
    },
    {
      "cell_type": "markdown",
      "metadata": {
        "id": "EGUwtNV4ovGz"
      },
      "source": [
        "### 문자열(String)"
      ]
    },
    {
      "cell_type": "code",
      "metadata": {
        "colab": {
          "base_uri": "https://localhost:8080/"
        },
        "id": "s1M85lAjo46g",
        "outputId": "a9db8c90-754b-453d-d586-676f491cb792"
      },
      "source": [
        "# in\n",
        "\n",
        "if 'p' in 'python':\n",
        "    print(True)\n",
        "\n",
        "else:\n",
        "    print(False)\n",
        "\n",
        "\n",
        "# not in\n",
        "\n",
        "if 'k' not in 'python':\n",
        "    print(True)\n",
        "else:\n",
        "    print(False)\n",
        "\n",
        "print('j' not in 'python')\n",
        "'t' in 'python'"
      ],
      "execution_count": null,
      "outputs": [
        {
          "output_type": "stream",
          "text": [
            "True\n",
            "True\n",
            "True\n"
          ],
          "name": "stdout"
        },
        {
          "output_type": "execute_result",
          "data": {
            "text/plain": [
              "True"
            ]
          },
          "metadata": {
            "tags": []
          },
          "execution_count": 25
        }
      ]
    },
    {
      "cell_type": "markdown",
      "metadata": {
        "id": "PtGHTygUqLkE"
      },
      "source": [
        "### in을 이용한 코드\n",
        "#### \"만약 주머니에 돈이 있으면 택시를 타고, 없으면 걸어 가라.\""
      ]
    },
    {
      "cell_type": "code",
      "metadata": {
        "id": "B-YLsuuYGPmv",
        "colab": {
          "base_uri": "https://localhost:8080/"
        },
        "outputId": "7dcafa3b-18cf-411c-d99e-31b24bdbf308"
      },
      "source": [
        "pocket = ['paper', 'cellphone', 'money']\n",
        "if 'money' in pocket:\n",
        "    print(\"택시를 타고 가라\")\n",
        "else:\n",
        "    print(\"걸어가라\")\n"
      ],
      "execution_count": null,
      "outputs": [
        {
          "output_type": "stream",
          "text": [
            "택시를 타고 가라\n"
          ],
          "name": "stdout"
        }
      ]
    },
    {
      "cell_type": "markdown",
      "metadata": {
        "id": "ap4rWb9JrnOc"
      },
      "source": [
        "---"
      ]
    },
    {
      "cell_type": "markdown",
      "metadata": {
        "id": "oX5lvRbBtLeE"
      },
      "source": [
        "## 조건식: pass\n",
        "- 예약어\n",
        "- 참과 거짓에 따라 실행할 문장 혹은 동작을 정의할 때, 아무런 일도 하지 않게 설정하는 것."
      ]
    },
    {
      "cell_type": "code",
      "metadata": {
        "id": "N9WDvXYUn1Bs"
      },
      "source": [
        "\n",
        "pocket = ['paper', 'cellphone', 'money']\n",
        "if 'money' in pocket:\n",
        "    # print(\"택시를 타고 가라\")\n",
        "    pass \n",
        "else:\n",
        "    print(\"걸어가라\")"
      ],
      "execution_count": null,
      "outputs": []
    },
    {
      "cell_type": "markdown",
      "metadata": {
        "id": "p9VLJnlJu62F"
      },
      "source": [
        ""
      ]
    },
    {
      "cell_type": "markdown",
      "metadata": {
        "id": "3cWbISL4u8i9"
      },
      "source": [
        "---"
      ]
    },
    {
      "cell_type": "markdown",
      "metadata": {
        "id": "y_XVeTbHuNg9"
      },
      "source": [
        "## 다중 조건식: elif\n",
        "> 다양한 조건을 판단\n",
        "###### \"주머니에 돈이 있으면 택시를 타고, 주머니에 돈은 없지만 카드가 있으면 택시를 타고,  돈도 없고 카드도 없으면 걸어 가라. \""
      ]
    },
    {
      "cell_type": "code",
      "metadata": {
        "colab": {
          "base_uri": "https://localhost:8080/"
        },
        "id": "sGQPO_yvtTRn",
        "outputId": "ee6a5433-cc03-4a5b-8c28-64ec52d809db"
      },
      "source": [
        "pocket = ['paper', 'handphone']\n",
        "card = True\n",
        "if 'money' in pocket:\n",
        "    print(\"택시를 타고가라\")\n",
        "else:\n",
        "    if card:\n",
        "        print(\"택시를 타고가라\")\n",
        "    else:\n",
        "        print(\"걸어가라\")\n",
        "\n",
        "\n",
        "# elif 이용한 코드\n",
        "pocket = ['paper', 'handphone']\n",
        "card = True\n",
        "if 'money' in pocket:\n",
        "    print(\"택시를 타고가라\")\n",
        "elif card:\n",
        "    print(\"택시를 타고가라\")\n",
        "else:\n",
        "    print(\"걸어가라\")\n"
      ],
      "execution_count": null,
      "outputs": [
        {
          "output_type": "stream",
          "text": [
            "택시를 타고가라\n",
            "택시를 타고가라\n"
          ],
          "name": "stdout"
        }
      ]
    },
    {
      "cell_type": "markdown",
      "metadata": {
        "id": "_De6MlGTu-HM"
      },
      "source": [
        "---\n",
        "\n"
      ]
    },
    {
      "cell_type": "markdown",
      "metadata": {
        "id": "nAK_jHJQu_Rc"
      },
      "source": [
        "## 단축 코드 만들기\n",
        "> if문을 한 줄로 작성하기\n"
      ]
    },
    {
      "cell_type": "code",
      "metadata": {
        "id": "GAzZ4TJTuaUL"
      },
      "source": [
        "\n",
        "pocket = ['paper', 'cellphone', 'money']\n",
        "if 'money' in pocket:\n",
        "    pass\n",
        "else:\n",
        "    print(\"카드를 사용해라.\")\n"
      ],
      "execution_count": null,
      "outputs": []
    },
    {
      "cell_type": "markdown",
      "metadata": {
        "id": "FxZo-iRQy6ve"
      },
      "source": [
        "##### if 문 최소 줄 코드 "
      ]
    },
    {
      "cell_type": "code",
      "metadata": {
        "id": "g8uC5wIuy37d"
      },
      "source": [
        "if 'money' in pocket: pass\n",
        "else: print(\"카드를 사용해라.\")\n",
        "\n",
        "#\"주머니 리스트에 money가 있기 때문에 if 문 충족 =>pass를 만나 현재 조건문만 실행하지 않음\")"
      ],
      "execution_count": null,
      "outputs": []
    },
    {
      "cell_type": "markdown",
      "metadata": {
        "id": "JLV7WyrDwiBn"
      },
      "source": [
        "### **조건부 표현식 (conditional expression)** * \n",
        "> 조건문이 참인 경우 if 조건문,  else 조건문이 거짓인 경우"
      ]
    },
    {
      "cell_type": "code",
      "metadata": {
        "colab": {
          "base_uri": "https://localhost:8080/"
        },
        "id": "ZBU1rvyzvKA7",
        "outputId": "0db2cf64-cf45-4529-93a3-deef524e12d2"
      },
      "source": [
        "score=80\n",
        "if score >= 60:\n",
        "    message = \"success\"\n",
        "else:\n",
        "    message = \"failure\"\n",
        "\n",
        "print(message)\n"
      ],
      "execution_count": null,
      "outputs": [
        {
          "output_type": "stream",
          "text": [
            "success\n"
          ],
          "name": "stdout"
        }
      ]
    },
    {
      "cell_type": "markdown",
      "metadata": {
        "id": "B6qcfEqWzKOV"
      },
      "source": [
        "#### 조건부 표현식 한줄 코드"
      ]
    },
    {
      "cell_type": "code",
      "metadata": {
        "colab": {
          "base_uri": "https://localhost:8080/"
        },
        "id": "bZWYSnJUzJqN",
        "outputId": "08a1abe1-7196-4a0b-afe1-79c43f5d9d7b"
      },
      "source": [
        "score = 50\n",
        "message = \"success\" if score >= 60 else \"failure\" \n",
        "# 메세지 \"success\"를 출력해라, 만약 점수가 60점보다 크거나 같으면, 그것이 아니라면 \"failure\"을 출력해라.  \n",
        "print(message)"
      ],
      "execution_count": null,
      "outputs": [
        {
          "output_type": "stream",
          "text": [
            "failure\n"
          ],
          "name": "stdout"
        }
      ]
    },
    {
      "cell_type": "markdown",
      "metadata": {
        "id": "pJPt-BQnzQ2P"
      },
      "source": [
        "___"
      ]
    },
    {
      "cell_type": "markdown",
      "metadata": {
        "id": "0bpiaYHj0Or_"
      },
      "source": [
        "## 반복문\n",
        "- while\n",
        "- for"
      ]
    },
    {
      "cell_type": "markdown",
      "metadata": {
        "id": "zn7p9Pwi0kWf"
      },
      "source": [
        "## while 문\n",
        "- while 문은 어떻게 사용?\n",
        "- 반복해서 문장을 수행해야 할 경우 while문을 사용한다.\n",
        "- 그래서 while문을 반복문이라고도 부른다."
      ]
    },
    {
      "cell_type": "code",
      "metadata": {
        "id": "0Y0fMfkPtW62",
        "colab": {
          "base_uri": "https://localhost:8080/"
        },
        "outputId": "1598ac56-e0a8-4991-d3ae-cd6280cd469c"
      },
      "source": [
        "\n",
        "print(\"while문의 기본 구조\")\n",
        "'''\n",
        "while <조건문>:\n",
        "    <수행할 문장1>\n",
        "    <수행할 문장2>\n",
        "    <수행할 문장3>\n",
        "    ...\n",
        "'''\n",
        "\n",
        "# \"열 번 찍어 안 넘어가는 나무 없다\"는 속담을 파이썬 프로그램으로 반복 실행\n",
        "treeHit = 0\n",
        "while treeHit < 10:\n",
        "    treeHit = treeHit +1\n",
        "    print(\"나무를 {}번 찍었습니다.\".format(treeHit))\n",
        "    if treeHit == 10:\n",
        "        print(\"나무 넘어갑니다.\")\n",
        "\n"
      ],
      "execution_count": null,
      "outputs": [
        {
          "output_type": "stream",
          "text": [
            "while문의 기본 구조\n",
            "나무를 1번 찍었습니다.\n",
            "나무를 2번 찍었습니다.\n",
            "나무를 3번 찍었습니다.\n",
            "나무를 4번 찍었습니다.\n",
            "나무를 5번 찍었습니다.\n",
            "나무를 6번 찍었습니다.\n",
            "나무를 7번 찍었습니다.\n",
            "나무를 8번 찍었습니다.\n",
            "나무를 9번 찍었습니다.\n",
            "나무를 10번 찍었습니다.\n",
            "나무 넘어갑니다.\n"
          ],
          "name": "stdout"
        }
      ]
    },
    {
      "cell_type": "markdown",
      "metadata": {
        "id": "2UzOobhma3LW"
      },
      "source": [
        "## while문 만들기"
      ]
    },
    {
      "cell_type": "code",
      "metadata": {
        "id": "nb1KEhY60hJv",
        "colab": {
          "base_uri": "https://localhost:8080/"
        },
        "outputId": "bf15de38-3fc5-4042-ad2c-3f0dac48007f"
      },
      "source": [
        "print(\"while문 만들기\")\n",
        "#\n",
        "prompt = \"\"\"   \n",
        "1. Add\n",
        "2. Del\n",
        "3. List\n",
        "4. Quit\n",
        "Enter number: \"\"\"\n",
        "\n",
        "print(prompt)\n",
        "\n",
        "number = 0\n",
        "while number != 4:\n",
        "    print(prompt)\n",
        "    number = int(input()) #변수 number를 사용자가 키보드로 입력한 값을 받아와서 계산\n"
      ],
      "execution_count": null,
      "outputs": [
        {
          "output_type": "stream",
          "text": [
            "while문 만들기\n",
            "   \n",
            "1. Add\n",
            "2. Del\n",
            "3. List\n",
            "4. Quit\n",
            "Enter number: \n",
            "   \n",
            "1. Add\n",
            "2. Del\n",
            "3. List\n",
            "4. Quit\n",
            "Enter number: \n",
            "4\n"
          ],
          "name": "stdout"
        }
      ]
    },
    {
      "cell_type": "markdown",
      "metadata": {
        "id": "aVkS5UptcoVJ"
      },
      "source": [
        "## input 함수\n",
        "- 파이썬은 input함수를 사용하여 키보드 입력을 받는다.\n",
        "- 출력하고 싶은 메시지는 input 함수의 인자로 전달하면 된다.\n",
        "- input 함수의 리턴값은 문자열이다 \n",
        "- 문자열을 정수로 변환하기 위해서는 int() 함수를 사용한다.\n",
        "- 문자열을 실수로 변환하기 위해서는 float() 함수를 사용한다.\n",
        "- 숫자를 문자열로 변환하기 위해서는 str() 함수를 사용한다."
      ]
    },
    {
      "cell_type": "code",
      "metadata": {
        "colab": {
          "base_uri": "https://localhost:8080/"
        },
        "id": "kNQ8AV76c5N6",
        "outputId": "9c3c379e-e40e-4607-ddd7-5eca1abccb58"
      },
      "source": [
        "name = input()\n",
        "\n",
        "print(name)\n",
        "\n",
        "name1 = input('이름을 입력하세요: ')\n",
        "print(\"당신의 이름은 {} 이군요.\".format(name1))"
      ],
      "execution_count": null,
      "outputs": [
        {
          "output_type": "stream",
          "text": [
            "김범석\n",
            "김범석\n",
            "이름을 입력하세요: 김범석\n",
            "당신의 이름은 김범석 이군요.\n"
          ],
          "name": "stdout"
        }
      ]
    },
    {
      "cell_type": "markdown",
      "metadata": {
        "id": "uxd7x7TFd3sR"
      },
      "source": [
        "---"
      ]
    },
    {
      "cell_type": "markdown",
      "metadata": {
        "id": "9rkpo7GkeJUQ"
      },
      "source": [
        "## while문 강제로 빠져나가기 (break) *\n",
        "- 커피 자판기 작동\n",
        "- 자판기가 제대로 작동하려면 커피가 얼마나 남았는지 항상 검사해야 한다. \n",
        "- 만약 커피가 떨어졌다면 판매를 중단하고 \"판매 중지\" 문구를 사용자에게 보여준다."
      ]
    },
    {
      "cell_type": "code",
      "metadata": {
        "colab": {
          "base_uri": "https://localhost:8080/"
        },
        "id": "5Jqo6_3Ba0Jl",
        "outputId": "668c30ca-d2f8-493d-fa4d-aea393a6e3bf"
      },
      "source": [
        "coffee = 10\n",
        "money = 300\n",
        "while money:\n",
        "    print(\"돈을 받았으니 커피를 줍니다.\")\n",
        "    coffee = coffee -1\n",
        "    print(\"남은 커피의 양은 %d개입니다.\" % coffee)\n",
        "    if coffee == 0:\n",
        "        print(\"커피가 다 떨어졌습니다. 판매를 중지합니다.\")\n",
        "        break\n"
      ],
      "execution_count": null,
      "outputs": [
        {
          "output_type": "stream",
          "text": [
            "돈을 받았으니 커피를 줍니다.\n",
            "남은 커피의 양은 9개입니다.\n",
            "돈을 받았으니 커피를 줍니다.\n",
            "남은 커피의 양은 8개입니다.\n",
            "돈을 받았으니 커피를 줍니다.\n",
            "남은 커피의 양은 7개입니다.\n",
            "돈을 받았으니 커피를 줍니다.\n",
            "남은 커피의 양은 6개입니다.\n",
            "돈을 받았으니 커피를 줍니다.\n",
            "남은 커피의 양은 5개입니다.\n",
            "돈을 받았으니 커피를 줍니다.\n",
            "남은 커피의 양은 4개입니다.\n",
            "돈을 받았으니 커피를 줍니다.\n",
            "남은 커피의 양은 3개입니다.\n",
            "돈을 받았으니 커피를 줍니다.\n",
            "남은 커피의 양은 2개입니다.\n",
            "돈을 받았으니 커피를 줍니다.\n",
            "남은 커피의 양은 1개입니다.\n",
            "돈을 받았으니 커피를 줍니다.\n",
            "남은 커피의 양은 0개입니다.\n",
            "커피가 다 떨어졌습니다. 판매를 중지합니다.\n"
          ],
          "name": "stdout"
        }
      ]
    },
    {
      "cell_type": "markdown",
      "metadata": {
        "id": "9ExpOssPf7rG"
      },
      "source": [
        "## coffee.py"
      ]
    },
    {
      "cell_type": "code",
      "metadata": {
        "id": "_nSAy2GEexFJ"
      },
      "source": [
        "\"\"\"\n",
        "coffee = 10\n",
        "while True:\n",
        "    money = int(input(\"돈을 넣어 주세요: \")) #money 값을 input 함수로 받음\n",
        "    if money == 300:      #money가 300이면 아래문장 실행\n",
        "        print(\"커피를 줍니다.\")\n",
        "        coffee = coffee -1\n",
        "    elif money > 300:    #money가 300보다 많으면 아래문장 실행\n",
        "        print(\"거스름돈 {}를 주고 커피를 줍니다.\".format(money -300))\n",
        "        coffee = coffee -1\n",
        "    else:                #300원 이하일때 아래 문장 실행\n",
        "        print(\"돈을 다시 돌려주고 커피를 주지 않습니다.\")\n",
        "        print(\"남은 커피의 양은 {}개 입니다.\".format(coffee))\n",
        "        \n",
        "    if coffee == 0:     #위에 문장을 실행하고 남은 coffee의 수가 0이 되면 if 문 실행 while 문 빠져나옴\n",
        "        print(\"커피가 다 떨어졌습니다. 판매를 중지 합니다.\")\n",
        "        break\n",
        "\"\"\"\n"
      ],
      "execution_count": null,
      "outputs": []
    },
    {
      "cell_type": "code",
      "metadata": {
        "colab": {
          "base_uri": "https://localhost:8080/"
        },
        "id": "lshoerQ9idRr",
        "outputId": "3dbf2d85-ade2-4ad2-a65d-15456d4517bf"
      },
      "source": [
        "coffee = 10\n",
        "while True:\n",
        "    money = int(input(\"돈을 넣어 주세요: \"))\n",
        "    if money == 300:      \n",
        "        print(\"커피를 줍니다.\")\n",
        "        coffee = coffee -1\n",
        "    elif money > 300:   \n",
        "        print(\"거스름돈 {}를 주고 커피를 줍니다.\".format(money -300))\n",
        "        coffee = coffee -1\n",
        "    else:              \n",
        "        print(\"돈을 다시 돌려주고 커피를 주지 않습니다.\")\n",
        "        print(\"남은 커피의 양은 {}개 입니다.\".format(coffee))\n",
        "        \n",
        "    if coffee == 0:    \n",
        "        print(\"커피가 다 떨어졌습니다. 판매를 중지 합니다.\")\n",
        "        break"
      ],
      "execution_count": null,
      "outputs": [
        {
          "output_type": "stream",
          "text": [
            "돈을 넣어 주세요: 300\n",
            "커피를 줍니다.\n",
            "돈을 넣어 주세요: 500\n",
            "거스름돈 200를 주고 커피를 줍니다.\n",
            "돈을 넣어 주세요: 600\n",
            "거스름돈 300를 주고 커피를 줍니다.\n",
            "돈을 넣어 주세요: 300\n",
            "커피를 줍니다.\n",
            "돈을 넣어 주세요: 300\n",
            "커피를 줍니다.\n",
            "돈을 넣어 주세요: 300\n",
            "커피를 줍니다.\n",
            "돈을 넣어 주세요: 300\n",
            "커피를 줍니다.\n",
            "돈을 넣어 주세요: 300\n",
            "커피를 줍니다.\n",
            "돈을 넣어 주세요: 300\n",
            "커피를 줍니다.\n",
            "돈을 넣어 주세요: 300\n",
            "커피를 줍니다.\n",
            "커피가 다 떨어졌습니다. 판매를 중지 합니다.\n"
          ],
          "name": "stdout"
        }
      ]
    },
    {
      "cell_type": "markdown",
      "metadata": {
        "id": "_DUelymXimZO"
      },
      "source": [
        "---\n"
      ]
    },
    {
      "cell_type": "markdown",
      "metadata": {
        "id": "Z5tpeq0ei_5n"
      },
      "source": [
        "## colab에서 python 소스 실행하기\n",
        "- 좌측창에 폴더모양 누르기 => 확장자가 py인 파일 만들어주고 코드 만든뒤 저장\n",
        "- run coffee.py 입력하면 저장해놓았던 coffee.py가 실행이됨"
      ]
    },
    {
      "cell_type": "code",
      "metadata": {
        "colab": {
          "base_uri": "https://localhost:8080/"
        },
        "id": "Us-3rZQcj-Ln",
        "outputId": "fec91efa-e511-456a-b7b2-0f2c0b223c80"
      },
      "source": [
        "run coffee.py"
      ],
      "execution_count": null,
      "outputs": [
        {
          "output_type": "stream",
          "text": [
            "돈을 넣어 주세요: 300\n",
            "커피를 줍니다.\n",
            "돈을 넣어 주세요: 500\n",
            "거스름돈 200를 주고 커피를 줍니다.\n",
            "돈을 넣어 주세요: 600\n",
            "거스름돈 300를 주고 커피를 줍니다.\n",
            "돈을 넣어 주세요: 200\n",
            "돈을 다시 돌려주고 커피를 주지 않습니다.\n",
            "남은 커피의 양은 2개 입니다.\n",
            "돈을 넣어 주세요: 300\n",
            "커피를 줍니다.\n",
            "돈을 넣어 주세요: 300\n",
            "커피를 줍니다.\n",
            "커피가 다 떨어졌습니다. 판매를 중지 합니다.\n"
          ],
          "name": "stdout"
        }
      ]
    },
    {
      "cell_type": "markdown",
      "metadata": {
        "id": "0yM269bRkhbq"
      },
      "source": [
        "---\n",
        "\n",
        "\n",
        "\n"
      ]
    },
    {
      "cell_type": "markdown",
      "metadata": {
        "id": "I3C83YpHk7l1"
      },
      "source": [
        "## while문의 맨 처음으로 돌아가기 (continue)\n",
        " - while문을 빠져나가지 않고 while문의 맨 처음(조건문)으로 다시 돌아가게 만들고 싶은 경우가 생기게 된다. 이때 사용하는 것이 바로 continue문이다.\n",
        "\n",
        "###### 1부터 10까지의 숫자 중에서 홀수만 출력하는 것을 while문을 사용해서 작성"
      ]
    },
    {
      "cell_type": "code",
      "metadata": {
        "colab": {
          "base_uri": "https://localhost:8080/"
        },
        "id": "2icdvDK3f6s8",
        "outputId": "c66b5927-f3b6-45e8-f9fb-c50fb6be6d1d"
      },
      "source": [
        "a = 0\n",
        "while a < 10:\n",
        "    a = a + 1\n",
        "    if a % 2 == 0: continue # a 의 값이 2로 나누어 지면 (2의 배수) continue를 만나 print(a)를 만나지 않고 while문의 맨처음 조건문으로 이동한다.\n",
        "    print(a)\n",
        "\n"
      ],
      "execution_count": null,
      "outputs": [
        {
          "output_type": "stream",
          "text": [
            "1\n",
            "3\n",
            "5\n",
            "7\n",
            "9\n"
          ],
          "name": "stdout"
        }
      ]
    },
    {
      "cell_type": "markdown",
      "metadata": {
        "id": "kfXkPlhImA9X"
      },
      "source": [
        "---"
      ]
    },
    {
      "cell_type": "markdown",
      "metadata": {
        "id": "zuijpbQMmclt"
      },
      "source": [
        "## while문의 무한 루프"
      ]
    },
    {
      "cell_type": "code",
      "metadata": {
        "id": "IXrii3BtlPbd"
      },
      "source": [
        "\"\"\"\n",
        "while True:  \n",
        "    수행할 문장1 \n",
        "    수행할 문장2\n",
        "    ...\n",
        "\"\"\"\n",
        "# 무한루프 코드의 예 (^C로 중지 !!! => 파이썬 명령 셀)\n",
        "while True:\n",
        "    print(\"Ctrl+C를 눌러야 while문을 빠져나갈 수 있습니다.\")"
      ],
      "execution_count": null,
      "outputs": []
    },
    {
      "cell_type": "code",
      "metadata": {
        "id": "Nn87uHUqtW64"
      },
      "source": [
        ""
      ],
      "execution_count": null,
      "outputs": []
    }
  ]
}