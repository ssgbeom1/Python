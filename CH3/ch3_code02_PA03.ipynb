{
  "nbformat": 4,
  "nbformat_minor": 0,
  "metadata": {
    "colab": {
      "name": "ch3_code02-PA03.ipynb",
      "provenance": [],
      "collapsed_sections": [],
      "include_colab_link": true
    },
    "kernelspec": {
      "display_name": "Python 3",
      "language": "python",
      "name": "python3"
    },
    "language_info": {
      "codemirror_mode": {
        "name": "ipython",
        "version": 3
      },
      "file_extension": ".py",
      "mimetype": "text/x-python",
      "name": "python",
      "nbconvert_exporter": "python",
      "pygments_lexer": "ipython3",
      "version": "3.7.5"
    }
  },
  "cells": [
    {
      "cell_type": "markdown",
      "metadata": {
        "id": "view-in-github",
        "colab_type": "text"
      },
      "source": [
        "<a href=\"https://colab.research.google.com/github/ssgbeom1/pa03/blob/main/CH3/ch3_code02_PA03.ipynb\" target=\"_parent\"><img src=\"https://colab.research.google.com/assets/colab-badge.svg\" alt=\"Open In Colab\"/></a>"
      ]
    },
    {
      "cell_type": "markdown",
      "metadata": {
        "id": "H4jNE-BMAK3f"
      },
      "source": [
        "# ch3_code02-PA03.ipynb\n",
        "## PA03\n",
        "---\n",
        "- 반복문: for\n",
        "    - for ~ in ***:\n",
        "    - range()\n",
        "---\n",
        "\n",
        "- **리스트 내포(List comprehension)**\n",
        "\n",
        "***\n",
        "- **for 문과 iterator**\n",
        "    - for ~ range()\n",
        "    - for ~ enumerate()\n",
        "    - for ~ zip()\n",
        "    "
      ]
    },
    {
      "cell_type": "markdown",
      "metadata": {
        "id": "nCNSZ3dgxpHj"
      },
      "source": [
        "## for 문은 어떻게 사용?\"\n",
        "> 반복해서 문장을 수행해야 할 경우 for문을 사용한다."
      ]
    },
    {
      "cell_type": "markdown",
      "metadata": {
        "id": "kspnbHfkxzim"
      },
      "source": [
        "#### for문의 기본 구조"
      ]
    },
    {
      "cell_type": "code",
      "metadata": {
        "id": "R-73g3-Cqz9C"
      },
      "source": [
        "'''\n",
        "for 변수 in 리스트(또는 튜플, 문자열):\n",
        "    수행할 문장1\n",
        "    수행할 문장2\n",
        "    ...\n",
        "'''"
      ],
      "execution_count": null,
      "outputs": []
    },
    {
      "cell_type": "markdown",
      "metadata": {
        "id": "KvrWzdnBx6G9"
      },
      "source": [
        "## 예제를 통해 for문 이해하기"
      ]
    },
    {
      "cell_type": "markdown",
      "metadata": {
        "id": "MNgAkf4WyFmy"
      },
      "source": [
        "> 전형적인 for문"
      ]
    },
    {
      "cell_type": "code",
      "metadata": {
        "colab": {
          "base_uri": "https://localhost:8080/"
        },
        "id": "swJLEkP4xlsX",
        "outputId": "4f7364f0-4538-493d-f778-3ee2575559c7"
      },
      "source": [
        "test_list = ['one', 'two', 'three'] \n",
        "for i in test_list:\n",
        "    print(i)\n"
      ],
      "execution_count": null,
      "outputs": [
        {
          "output_type": "stream",
          "text": [
            "one\n",
            "two\n",
            "three\n"
          ],
          "name": "stdout"
        }
      ]
    },
    {
      "cell_type": "code",
      "metadata": {
        "colab": {
          "base_uri": "https://localhost:8080/"
        },
        "id": "A6TZNVhYyU7d",
        "outputId": "7f1a9238-e912-4199-9b80-ac30e021997b"
      },
      "source": [
        "my_list = [10,20,30,40,50]\n",
        "for item in my_list:\n",
        "    print(item)\n",
        "    print(item * 2)\n",
        "    print(\"----------\")\n"
      ],
      "execution_count": null,
      "outputs": [
        {
          "output_type": "stream",
          "text": [
            "10\n",
            "20\n",
            "----------\n",
            "20\n",
            "40\n",
            "----------\n",
            "30\n",
            "60\n",
            "----------\n",
            "40\n",
            "80\n",
            "----------\n",
            "50\n",
            "100\n",
            "----------\n"
          ],
          "name": "stdout"
        }
      ]
    },
    {
      "cell_type": "markdown",
      "metadata": {
        "id": "44iKKNZHyLBF"
      },
      "source": [
        "> 다양한 for문의 사용"
      ]
    },
    {
      "cell_type": "code",
      "metadata": {
        "colab": {
          "base_uri": "https://localhost:8080/"
        },
        "id": "bZmRgMFIx_6Z",
        "outputId": "b0b8a699-b16f-4c35-bebe-df7fa8e0b680"
      },
      "source": [
        "a = [(1,2), (3,4), (5,6)]\n",
        "\n",
        "for (first, last) in a:\n",
        "    print(first + last)\n",
        "\n"
      ],
      "execution_count": null,
      "outputs": [
        {
          "output_type": "stream",
          "text": [
            "3\n",
            "7\n",
            "11\n"
          ],
          "name": "stdout"
        }
      ]
    },
    {
      "cell_type": "markdown",
      "metadata": {
        "id": "01ramz0LEWxu"
      },
      "source": [
        "## for문의 응용\n",
        "---\n",
        "> \"총 5명의 학생이 시험을 보았는데 시험 점수가 60점이 넘으면 \n",
        " 합격이고 그렇지 않으면 불합격이다. \n",
        " 합격인지 불합격인지 결과를 보여 주시오.\""
      ]
    },
    {
      "cell_type": "code",
      "metadata": {
        "colab": {
          "base_uri": "https://localhost:8080/"
        },
        "id": "B29F6RQqyBRs",
        "outputId": "3a985eb9-dbdc-4cf7-9e02-523eb29a7242"
      },
      "source": [
        "# marks1.py \n",
        "marks = [90, 25, 67, 45, 80]\n",
        "\n",
        "number = 0 \n",
        "for mark in marks: \n",
        "    number = number +1 \n",
        "    if mark >= 60: \n",
        "        print(\"{}점을 받은 {}번 학생은 합격입니다.\".format(mark, number))\n",
        "    else: \n",
        "        print(\"{}점을 받은 {}번 학생은 {}점 부족으로 불합격입니다.\".format(mark, number, 60 - mark))\n",
        "    \n",
        "\n",
        "###################################\n",
        "# cmd에서 실행하시오.\n",
        "# python marks1.py\n",
        "#run marks1.py\n",
        "###################################\n"
      ],
      "execution_count": null,
      "outputs": [
        {
          "output_type": "stream",
          "text": [
            "90점을 받은 1번 학생은 합격입니다.\n",
            "25점을 받은 2번 학생은 35점 부족으로 불합격입니다.\n",
            "67점을 받은 3번 학생은 합격입니다.\n",
            "45점을 받은 4번 학생은 15점 부족으로 불합격입니다.\n",
            "80점을 받은 5번 학생은 합격입니다.\n"
          ],
          "name": "stdout"
        }
      ]
    },
    {
      "cell_type": "code",
      "metadata": {
        "colab": {
          "base_uri": "https://localhost:8080/"
        },
        "id": "Lqy6l-AaJtAs",
        "outputId": "14127447-3a73-448a-a8af-53746e37d773"
      },
      "source": [
        "run marks1.py"
      ],
      "execution_count": null,
      "outputs": [
        {
          "output_type": "stream",
          "text": [
            "90점을 받은 1번 학생은 합격입니다.\n",
            "25점을 받은 2번 학생은 35점 부족으로 불합격입니다.\n",
            "67점을 받은 3번 학생은 합격입니다.\n",
            "45점을 받은 4번 학생은 15점 부족으로 불합격입니다.\n",
            "80점을 받은 5번 학생은 합격입니다.\n"
          ],
          "name": "stdout"
        }
      ]
    },
    {
      "cell_type": "markdown",
      "metadata": {
        "id": "8q9a4F1wKHQR"
      },
      "source": [
        "## for문과 continue\n",
        "---\n",
        "- for문 안의 문장을 수행하는 도중에 continue문을 만나면 for문의 처음으로 돌아가게 된다.\n",
        ">앞에서 for문 응용 예제를 그대로 사용해서 60점 이상인 사람에게는 \n",
        " 축하 메시지를 보내고 나머지 사람에게는 아무 메시지도 전하지 않는 \n",
        "프로그램을 작성."
      ]
    },
    {
      "cell_type": "code",
      "metadata": {
        "id": "3c8ETkyPEUdW",
        "colab": {
          "base_uri": "https://localhost:8080/"
        },
        "outputId": "39d95bd6-5a46-4938-b88b-d765e4f3051d"
      },
      "source": [
        "# marks2.py \n",
        "marks = [90, 25, 67, 45, 80]\n",
        "\n",
        "number = 0 \n",
        "for mark in marks: \n",
        "    number = number +1 \n",
        "    if mark < 60:\n",
        "        continue #60점 미만인 학생은 if문에 성립해서 continue문을 만다 for 조건문으로 이동\n",
        "    print(\"{}번 학생 축하합니다. 합격입니다. \".format(number))\n",
        "\n",
        "\n",
        "\n",
        "###################################\n",
        "# cmd에서 실행하시오.\n",
        "# python marks2.py\n",
        "# run marks2.py\n",
        "###################################\n"
      ],
      "execution_count": null,
      "outputs": [
        {
          "output_type": "stream",
          "text": [
            "1번 학생 축하합니다. 합격입니다. \n",
            "3번 학생 축하합니다. 합격입니다. \n",
            "5번 학생 축하합니다. 합격입니다. \n"
          ],
          "name": "stdout"
        }
      ]
    },
    {
      "cell_type": "code",
      "metadata": {
        "colab": {
          "base_uri": "https://localhost:8080/"
        },
        "id": "pV5al8zBEnvy",
        "outputId": "55028a66-e228-403a-ddf1-1e012f782061"
      },
      "source": [
        "run marks2.py"
      ],
      "execution_count": null,
      "outputs": [
        {
          "output_type": "stream",
          "text": [
            "1번 학생 축하합니다. 합격입니다. \n",
            "3번 학생 축하합니다. 합격입니다. \n",
            "5번 학생 축하합니다. 합격입니다. \n"
          ],
          "name": "stdout"
        }
      ]
    },
    {
      "cell_type": "markdown",
      "metadata": {
        "id": "LsvsfkilEz0d"
      },
      "source": [
        "## range()\n",
        "---\n",
        "- range(start, end)\n",
        "- range(start, end, step)\n",
        "- range(end)"
      ]
    },
    {
      "cell_type": "markdown",
      "metadata": {
        "id": "KevM6i2JHEC3"
      },
      "source": [
        "#### range(end)\n",
        "- 0부터 end 숫자의 -1 \n",
        "- 마지막 숫자는 포함되지 않는다.(range 함수의 결과를 바로 확인하기 위해 리스트(list)로 변환."
      ]
    },
    {
      "cell_type": "code",
      "metadata": {
        "colab": {
          "base_uri": "https://localhost:8080/"
        },
        "id": "JudLtF30HLIG",
        "outputId": "c6510184-11c1-460c-fbcb-caf15a6f61f6"
      },
      "source": [
        "a = range(10)\n",
        "a\n",
        "list(a)\n"
      ],
      "execution_count": null,
      "outputs": [
        {
          "output_type": "execute_result",
          "data": {
            "text/plain": [
              "[0, 1, 2, 3, 4, 5, 6, 7, 8, 9]"
            ]
          },
          "metadata": {
            "tags": []
          },
          "execution_count": 9
        }
      ]
    },
    {
      "cell_type": "markdown",
      "metadata": {
        "id": "DycNHH6qGIcq"
      },
      "source": [
        "#### range(start, end)\n",
        "- 인자를 2개 전달하는 경우 첫번째 인자는 시작하는 숫자가 되고 두번째 인자는 마지막 숫자가 된다."
      ]
    },
    {
      "cell_type": "code",
      "metadata": {
        "colab": {
          "base_uri": "https://localhost:8080/"
        },
        "id": "SnpPdQiwFJ8L",
        "outputId": "3790d747-f557-492c-ea4e-b6412dc86f51"
      },
      "source": [
        "a = range(5) # range(0, 5)와 같다.\n",
        "print(a)\n",
        "list(a)"
      ],
      "execution_count": null,
      "outputs": [
        {
          "output_type": "stream",
          "text": [
            "range(0, 5)\n"
          ],
          "name": "stdout"
        },
        {
          "output_type": "execute_result",
          "data": {
            "text/plain": [
              "[0, 1, 2, 3, 4]"
            ]
          },
          "metadata": {
            "tags": []
          },
          "execution_count": 13
        }
      ]
    },
    {
      "cell_type": "markdown",
      "metadata": {
        "id": "Rb2oWe9xGA8q"
      },
      "source": [
        "#### range(start, end, step)\n",
        "- 인자를 3개 전달하는 경우 첫번째 인자는 시작하는 숫자, 두번째 인자는 마지막 숫자, 세번째 인자인 step은 숫자의 간격을 나타낸다.\n",
        "- step는 음수로도 지정할 수 있다."
      ]
    },
    {
      "cell_type": "code",
      "metadata": {
        "colab": {
          "base_uri": "https://localhost:8080/"
        },
        "id": "s2BWKPyhFsaB",
        "outputId": "fc36ae32-af40-4191-b37b-c1b21ec05399"
      },
      "source": [
        "a = range(0, 10, 2) #0부터 9 까지 2씩 점프\n",
        "list(a)"
      ],
      "execution_count": null,
      "outputs": [
        {
          "output_type": "execute_result",
          "data": {
            "text/plain": [
              "[0, 2, 4, 6, 8]"
            ]
          },
          "metadata": {
            "tags": []
          },
          "execution_count": 12
        }
      ]
    },
    {
      "cell_type": "markdown",
      "metadata": {
        "id": "SmzNJInbIbNx"
      },
      "source": [
        "##### 음수 step"
      ]
    },
    {
      "cell_type": "code",
      "metadata": {
        "colab": {
          "base_uri": "https://localhost:8080/"
        },
        "id": "A9tzVVEAICT1",
        "outputId": "7f41402f-1b37-4f98-f98a-ce56948ab14a"
      },
      "source": [
        "a = range(20, 0 , -2)\n",
        "list(a)\n"
      ],
      "execution_count": null,
      "outputs": [
        {
          "output_type": "execute_result",
          "data": {
            "text/plain": [
              "[20, 18, 16, 14, 12, 10, 8, 6, 4, 2]"
            ]
          },
          "metadata": {
            "tags": []
          },
          "execution_count": 14
        }
      ]
    },
    {
      "cell_type": "markdown",
      "metadata": {
        "id": "AEYmNmn9Igk2"
      },
      "source": [
        "---"
      ]
    },
    {
      "cell_type": "markdown",
      "metadata": {
        "id": "ks7iXl0NIugS"
      },
      "source": [
        "#### range 함수를 이용한 코드"
      ]
    },
    {
      "cell_type": "code",
      "metadata": {
        "colab": {
          "base_uri": "https://localhost:8080/"
        },
        "id": "Jvfo40ChFlBN",
        "outputId": "1bb1012e-4cdc-4561-aac6-dd38d6abc2fa"
      },
      "source": [
        "# 1부터 10까지 더하는 코드\n",
        "add = 0 \n",
        "for i in range(1, 11): \n",
        "    add = add + i\n",
        "\n",
        "print(add)\n"
      ],
      "execution_count": null,
      "outputs": [
        {
          "output_type": "stream",
          "text": [
            "55\n"
          ],
          "name": "stdout"
        }
      ]
    },
    {
      "cell_type": "markdown",
      "metadata": {
        "id": "tXtWnbOSRkug"
      },
      "source": [
        "#### len 함수\n",
        "- 문자열의 문자 개수를 반환\n",
        "-  리스트의 크기를 알려줌"
      ]
    },
    {
      "cell_type": "code",
      "metadata": {
        "colab": {
          "base_uri": "https://localhost:8080/"
        },
        "id": "dftEZ0TERby_",
        "outputId": "3bde6034-f29d-44d7-8a78-223bcca261a9"
      },
      "source": [
        "a = range(10) # 0~9\n",
        "b = [1, 2, 3]\n",
        "len(a),len(b)"
      ],
      "execution_count": null,
      "outputs": [
        {
          "output_type": "execute_result",
          "data": {
            "text/plain": [
              "(10, 3)"
            ]
          },
          "metadata": {
            "tags": []
          },
          "execution_count": 19
        }
      ]
    },
    {
      "cell_type": "code",
      "metadata": {
        "colab": {
          "base_uri": "https://localhost:8080/"
        },
        "id": "U9NOi3pLI7fx",
        "outputId": "2218beca-9575-4677-a2a0-5ae7f93028cf"
      },
      "source": [
        "#marks3.py\n",
        "marks = [90, 25, 67, 45, 80]\n",
        "# number = 0\n",
        "for number in range(len(marks)): #range(marks 리스트의 크기(5)) , range(marks-1) \n",
        "    if marks[number] < 60:   #mark[인덱스 번호]\n",
        "        continue\n",
        "    print(\"{}번 학생 축하합니다. 합격입니다.\".format(number+1))\n",
        "\n",
        "\n",
        "###################################\n",
        "# cmd에서 실행하시오.\n",
        "# python marks3.py\n",
        "# run marks3.py\n",
        "###################################\n"
      ],
      "execution_count": null,
      "outputs": [
        {
          "output_type": "stream",
          "text": [
            "1번 학생 축하합니다. 합격입니다.\n",
            "3번 학생 축하합니다. 합격입니다.\n",
            "5번 학생 축하합니다. 합격입니다.\n"
          ],
          "name": "stdout"
        }
      ]
    },
    {
      "cell_type": "code",
      "metadata": {
        "colab": {
          "base_uri": "https://localhost:8080/"
        },
        "id": "Tp46abLlTrB0",
        "outputId": "8eb87869-6b81-4afb-f586-f60165b4c84e"
      },
      "source": [
        "run marks3.py"
      ],
      "execution_count": null,
      "outputs": [
        {
          "output_type": "stream",
          "text": [
            "1번 학생 축하합니다. 합격입니다.\n",
            "3번 학생 축하합니다. 합격입니다.\n",
            "5번 학생 축하합니다. 합격입니다.\n"
          ],
          "name": "stdout"
        }
      ]
    },
    {
      "cell_type": "markdown",
      "metadata": {
        "id": "YKiK6QAoUGXp"
      },
      "source": [
        "## 중첩 for문\n",
        "- 중첩 for문과 range를 이용한 구구단\n",
        "- for와 range 함수를 사용하면 소스 코드 단 4줄만으로 구구단을 출력"
      ]
    },
    {
      "cell_type": "code",
      "metadata": {
        "colab": {
          "base_uri": "https://localhost:8080/"
        },
        "id": "kU3pznURI0t8",
        "outputId": "ccf4a36e-e9c9-45ae-eccf-03c67183b16e"
      },
      "source": [
        "# 2단부터 9단까지 구구단 결과값을 출력하는 코드\n",
        "\n",
        "for i in range(2,10):         # ①번 for문 (i-loop)\n",
        "     for j in range(1, 10):   # ②번 for문 (j-loop)\n",
        "         print(i*j, end=\" \")  #end를 하게 되면 줄을 바꾸지 않고 출력\n",
        "     print('')   # 줄 바꿈\n"
      ],
      "execution_count": null,
      "outputs": [
        {
          "output_type": "stream",
          "text": [
            "for와 range를 이용한 구구단\n",
            "2 4 6 8 10 12 14 16 18 \n",
            "3 6 9 12 15 18 21 24 27 \n",
            "4 8 12 16 20 24 28 32 36 \n",
            "5 10 15 20 25 30 35 40 45 \n",
            "6 12 18 24 30 36 42 48 54 \n",
            "7 14 21 28 35 42 49 56 63 \n",
            "8 16 24 32 40 48 56 64 72 \n",
            "9 18 27 36 45 54 63 72 81 \n"
          ],
          "name": "stdout"
        }
      ]
    },
    {
      "cell_type": "code",
      "metadata": {
        "colab": {
          "base_uri": "https://localhost:8080/"
        },
        "id": "B3Acky4WUAti",
        "outputId": "accffb91-344e-4251-b574-e1c6bb25ee44"
      },
      "source": [
        "\n",
        "\n",
        "# 아래와 같이 출력하도록 코드를 변경해보시오.\n",
        "#############################################################\n",
        "# 2 X 1 = 2 2 X 2 = 4 2 X 3 = 6 2 X 4 = 8 2 X 5 = 10 2 X 6 = 12 2 X 7 = 14 2 X 8 = 16 2 X 9 = 18\n",
        "# 3 X 1 = 3 3 X 2 = 6 3 X 3 = 9 3 X 4 = 12 3 X 5 = 15 3 X 6 = 18 3 X 7 = 21 3 X 8 = 24 3 X 9 = 27\n",
        "# 4 X 1 = 4 4 X 2 = 8 4 X 3 = 12 4 X 4 = 16 4 X 5 = 20 4 X 6 = 24 4 X 7 = 28 4 X 8 = 32 4 X 9 = 36\n",
        "# 5 X 1 = 5 5 X 2 = 10 5 X 3 = 15 5 X 4 = 20 5 X 5 = 25 5 X 6 = 30 5 X 7 = 35 5 X 8 = 40 5 X 9 = 45\n",
        "# 6 X 1 = 6 6 X 2 = 12 6 X 3 = 18 6 X 4 = 24 6 X 5 = 30 6 X 6 = 36 6 X 7 = 42 6 X 8 = 48 6 X 9 = 54\n",
        "# 7 X 1 = 7 7 X 2 = 14 7 X 3 = 21 7 X 4 = 28 7 X 5 = 35 7 X 6 = 42 7 X 7 = 49 7 X 8 = 56 7 X 9 = 63\n",
        "# 8 X 1 = 8 8 X 2 = 16 8 X 3 = 24 8 X 4 = 32 8 X 5 = 40 8 X 6 = 48 8 X 7 = 56 8 X 8 = 64 8 X 9 = 72\n",
        "# 9 X 1 = 9 9 X 2 = 18 9 X 3 = 27 9 X 4 = 36 9 X 5 = 45 9 X 6 = 54 9 X 7 = 63 9 X 8 = 72 9 X 9 = 81\n",
        "#############################################################\n",
        "# \n",
        "for i in range(2,10):        # ①번 for문\n",
        "     for j in range(1, 10):   # ②번 for문\n",
        "         print(i,\"단\",':', i, \"X\", j, \"=\", i*j, end=\"  \") \n",
        "     print('') \n"
      ],
      "execution_count": null,
      "outputs": [
        {
          "output_type": "stream",
          "text": [
            "2 단 : 2 X 1 = 2  2 단 : 2 X 2 = 4  2 단 : 2 X 3 = 6  2 단 : 2 X 4 = 8  2 단 : 2 X 5 = 10  2 단 : 2 X 6 = 12  2 단 : 2 X 7 = 14  2 단 : 2 X 8 = 16  2 단 : 2 X 9 = 18  \n",
            "3 단 : 3 X 1 = 3  3 단 : 3 X 2 = 6  3 단 : 3 X 3 = 9  3 단 : 3 X 4 = 12  3 단 : 3 X 5 = 15  3 단 : 3 X 6 = 18  3 단 : 3 X 7 = 21  3 단 : 3 X 8 = 24  3 단 : 3 X 9 = 27  \n",
            "4 단 : 4 X 1 = 4  4 단 : 4 X 2 = 8  4 단 : 4 X 3 = 12  4 단 : 4 X 4 = 16  4 단 : 4 X 5 = 20  4 단 : 4 X 6 = 24  4 단 : 4 X 7 = 28  4 단 : 4 X 8 = 32  4 단 : 4 X 9 = 36  \n",
            "5 단 : 5 X 1 = 5  5 단 : 5 X 2 = 10  5 단 : 5 X 3 = 15  5 단 : 5 X 4 = 20  5 단 : 5 X 5 = 25  5 단 : 5 X 6 = 30  5 단 : 5 X 7 = 35  5 단 : 5 X 8 = 40  5 단 : 5 X 9 = 45  \n",
            "6 단 : 6 X 1 = 6  6 단 : 6 X 2 = 12  6 단 : 6 X 3 = 18  6 단 : 6 X 4 = 24  6 단 : 6 X 5 = 30  6 단 : 6 X 6 = 36  6 단 : 6 X 7 = 42  6 단 : 6 X 8 = 48  6 단 : 6 X 9 = 54  \n",
            "7 단 : 7 X 1 = 7  7 단 : 7 X 2 = 14  7 단 : 7 X 3 = 21  7 단 : 7 X 4 = 28  7 단 : 7 X 5 = 35  7 단 : 7 X 6 = 42  7 단 : 7 X 7 = 49  7 단 : 7 X 8 = 56  7 단 : 7 X 9 = 63  \n",
            "8 단 : 8 X 1 = 8  8 단 : 8 X 2 = 16  8 단 : 8 X 3 = 24  8 단 : 8 X 4 = 32  8 단 : 8 X 5 = 40  8 단 : 8 X 6 = 48  8 단 : 8 X 7 = 56  8 단 : 8 X 8 = 64  8 단 : 8 X 9 = 72  \n",
            "9 단 : 9 X 1 = 9  9 단 : 9 X 2 = 18  9 단 : 9 X 3 = 27  9 단 : 9 X 4 = 36  9 단 : 9 X 5 = 45  9 단 : 9 X 6 = 54  9 단 : 9 X 7 = 63  9 단 : 9 X 8 = 72  9 단 : 9 X 9 = 81  \n"
          ],
          "name": "stdout"
        }
      ]
    },
    {
      "cell_type": "markdown",
      "metadata": {
        "id": "DnCawIuRWKLK"
      },
      "source": [
        "## 리스트 내포(List comprehension)\n",
        "> 하는이유?\n",
        "- 리스트 안에 for문을 포함하는 것\n",
        "- 코드가 간결해짐\n",
        "\n",
        "---\n",
        "> 사용 법\n",
        "- 리스트 명 = [표현식(최종 결과)  for 변수 in 반복 가능한 대상] #기본형\n",
        "- 리스트 명 = [표현식(최종 결과)  for 변수 in 반복 가능한 대상 if 조건문] #if 사용형\n",
        "- 리스트 명 = [표현식(최종 결과)  for 변수1 in 반복\n",
        "가능한 대상1 for 변수2 in 반복 가능한 대상 2]  # 중첩 for문 사용형 \n"
      ]
    },
    {
      "cell_type": "code",
      "metadata": {
        "colab": {
          "base_uri": "https://localhost:8080/"
        },
        "id": "rOkWKATbVHyY",
        "outputId": "64909c9b-efa4-4cc0-8e14-af9e0a409af3"
      },
      "source": [
        "a = [1,2,3,4]\n",
        "result = []  # 리스트 초기화\n",
        "for num in a: #a의 값을 num으로\n",
        "    result.append(num*3)  #num의 값에 3을 곱한 값을 result 리스트에 추가(.append).\n",
        "\n",
        "print(result)"
      ],
      "execution_count": null,
      "outputs": [
        {
          "output_type": "stream",
          "text": [
            "[3, 6, 9, 12]\n"
          ],
          "name": "stdout"
        }
      ]
    },
    {
      "cell_type": "code",
      "metadata": {
        "colab": {
          "base_uri": "https://localhost:8080/"
        },
        "id": "EToR4_h8W7Ve",
        "outputId": "92dc1f50-f226-4b28-9730-936f70e80650"
      },
      "source": [
        "result"
      ],
      "execution_count": null,
      "outputs": [
        {
          "output_type": "execute_result",
          "data": {
            "text/plain": [
              "[3, 6, 9, 12]"
            ]
          },
          "metadata": {
            "tags": []
          },
          "execution_count": 29
        }
      ]
    },
    {
      "cell_type": "code",
      "metadata": {
        "colab": {
          "base_uri": "https://localhost:8080/"
        },
        "id": "7MXkZUTgWd9q",
        "outputId": "227a7d73-e599-49cd-9154-1794f3318e13"
      },
      "source": [
        "# 리스트 내포\n",
        "a = [1,2,3,4]\n",
        "result = [num*3 for num in a]\n",
        "print(result)\n"
      ],
      "execution_count": null,
      "outputs": [
        {
          "output_type": "stream",
          "text": [
            "[3, 6, 9, 12]\n"
          ],
          "name": "stdout"
        }
      ]
    },
    {
      "cell_type": "code",
      "metadata": {
        "id": "QT228gJ4XdcY"
      },
      "source": [
        "\n",
        "#\n",
        "#############################################\n",
        "print(\"리스트 내포의 일반 문법\")\n",
        "#\n",
        "# [표현식 for 항목 in 반복가능객체 if 조건문]\n",
        "# -----------------------------------------\n",
        "#\n",
        "# 일반화\n",
        "# [표현식 for 항목1 in 반복가능객체1 if 조건문1\n",
        "#         for 항목2 in 반복가능객체2 if 조건문2\n",
        "#         ...\n",
        "#         for 항목n in 반복가능객체n if 조건문n]\n",
        "##############################################\n",
        "#\n",
        "# 예1. 구구단의 모든 결과를 리스트에 담는 코드\n",
        "#\n",
        "result = [x*y for x in range(2,10) for y in range(1,10)]\n"
      ],
      "execution_count": null,
      "outputs": []
    },
    {
      "cell_type": "code",
      "metadata": {
        "colab": {
          "base_uri": "https://localhost:8080/"
        },
        "id": "NIEOtE_JbZWI",
        "outputId": "81ece3b7-4cf3-4bd2-8002-f52651864c1b"
      },
      "source": [
        "print(result)"
      ],
      "execution_count": null,
      "outputs": [
        {
          "output_type": "stream",
          "text": [
            "[2, 4, 6, 8, 10, 12, 14, 16, 18, 3, 6, 9, 12, 15, 18, 21, 24, 27, 4, 8, 12, 16, 20, 24, 28, 32, 36, 5, 10, 15, 20, 25, 30, 35, 40, 45, 6, 12, 18, 24, 30, 36, 42, 48, 54, 7, 14, 21, 28, 35, 42, 49, 56, 63, 8, 16, 24, 32, 40, 48, 56, 64, 72, 9, 18, 27, 36, 45, 54, 63, 72, 81]\n"
          ],
          "name": "stdout"
        }
      ]
    },
    {
      "cell_type": "code",
      "metadata": {
        "colab": {
          "base_uri": "https://localhost:8080/"
        },
        "id": "Qihll3q7be6C",
        "outputId": "f2108d8c-fc6b-474b-fe97-02af38582dba"
      },
      "source": [
        "len(result)"
      ],
      "execution_count": null,
      "outputs": [
        {
          "output_type": "execute_result",
          "data": {
            "text/plain": [
              "72"
            ]
          },
          "metadata": {
            "tags": []
          },
          "execution_count": 35
        }
      ]
    },
    {
      "cell_type": "code",
      "metadata": {
        "colab": {
          "base_uri": "https://localhost:8080/"
        },
        "id": "w4k7-PwJbIuw",
        "outputId": "c8548cf1-b53f-4152-9b37-cc7695bd4468"
      },
      "source": [
        "\n",
        "#\n",
        "print(\"9 이하의 정수 중 짝수는 2배로, 홀수는 그대로 리스트에 담는 코드\")\n",
        "#\n",
        "x = [1, 2, 3, 4, 5, 6, 7, 8, 9]  # -> [1, 4, 3, 8, 5, 12, 7, 16, 9]\n",
        "result = []\n",
        "for idx in range(len(x)):\n",
        "    if x[idx] % 2 == 0:  #idx가 2로 나눠지면(2의 배수일 때) idx값에 2를 곱한값을 result 리스트에 저장\n",
        "        result.append(x[idx] * 2)\n",
        "    else:                #idx가 2로 나눠지지 않을때(홀수일 때) idx값을 result 리스트에 저장\n",
        "        result.append(x[idx])\n",
        "print(result)\n",
        "#\n",
        "print(\"짝수만 추출하여 2배로 만든 리스트 구성\")\n",
        "print([element * 2 for element in x if element % 2 == 0]) # [element라는 변수에  2를 곱해라,for element 에 x의 리스트 원소를 넣고, if element를 2로 나눈 나머지가 0일 경우]\n",
        "print(\"그러면 짝수는 2배로, 홀수는 그대로 리스트에 담는 코드는?\")\n",
        "[(element * 2 if element % 2 == 0 else element) for element in x] #뒤에서부터 해석 [for element에 x의 리스트 원소를 넣어라(element에 2를 곱해라, if element를 2로나눈 나머지가 0일때, else 아니면 element에 바로넣어라) ]"
      ],
      "execution_count": null,
      "outputs": [
        {
          "output_type": "stream",
          "text": [
            "9 이하의 정수 중 짝수는 2배로, 홀수는 그대로 리스트에 담는 코드\n",
            "[1, 4, 3, 8, 5, 12, 7, 16, 9]\n",
            "짝수만 추출하여 2배로 만든 리스트 구성\n",
            "[4, 8, 12, 16]\n",
            "그러면 짝수는 2배로, 홀수는 그대로 리스트에 담는 코드는?\n"
          ],
          "name": "stdout"
        },
        {
          "output_type": "execute_result",
          "data": {
            "text/plain": [
              "[1, 4, 3, 8, 5, 12, 7, 16, 9]"
            ]
          },
          "metadata": {
            "tags": []
          },
          "execution_count": 44
        }
      ]
    },
    {
      "cell_type": "code",
      "metadata": {
        "colab": {
          "base_uri": "https://localhost:8080/"
        },
        "id": "9ow0Rez-hB0M",
        "outputId": "e3f0e6ad-9675-4dfc-a35a-d51740774f53"
      },
      "source": [
        "x = [1, 2, 3, 4]\n",
        "[(element * 2 if element % 2 == 0 else element) for element in x]"
      ],
      "execution_count": null,
      "outputs": [
        {
          "output_type": "execute_result",
          "data": {
            "text/plain": [
              "[1, 4, 3, 8]"
            ]
          },
          "metadata": {
            "tags": []
          },
          "execution_count": 45
        }
      ]
    },
    {
      "cell_type": "markdown",
      "metadata": {
        "id": "-3jegzfSe78_"
      },
      "source": [
        "---"
      ]
    },
    {
      "cell_type": "markdown",
      "metadata": {
        "id": "6cs2ZRmohwWL"
      },
      "source": [
        "## for 문과 iterator\n",
        "- range()\n",
        "- enumerate()\n",
        "- zip()"
      ]
    },
    {
      "cell_type": "markdown",
      "metadata": {
        "id": "nCl1fmgzkARe"
      },
      "source": [
        "## range()를 이용한 출력"
      ]
    },
    {
      "cell_type": "code",
      "metadata": {
        "id": "YkW8fS6Pqz9E",
        "colab": {
          "base_uri": "https://localhost:8080/"
        },
        "outputId": "3308e25d-1dab-4889-eb2c-e937402f4289"
      },
      "source": [
        "# ch3_04_for_iterates.py\n",
        "subjects = ['python', 'english', 'math', 'science']\n",
        "scores = [88, 77, 66, 95]\n",
        "#\n",
        "print(\"과목명 출력\")\n",
        "for subject in subjects:\n",
        "    print(subject)\n",
        "print(\"____________________________\")\n",
        "#\n",
        "print(\"과목 점수 출력\")\n",
        "for score in scores:\n",
        "    print(score)\n",
        "\n",
        "print(\"____________________________\")\n",
        "for index in range(len(subjects)):\n",
        "    print(subjects[index], scores[index])"
      ],
      "execution_count": null,
      "outputs": [
        {
          "output_type": "stream",
          "text": [
            "과목명 출력\n",
            "python\n",
            "english\n",
            "math\n",
            "science\n",
            "____________________________\n",
            "과목 점수 출력\n",
            "88\n",
            "77\n",
            "66\n",
            "95\n",
            "____________________________\n",
            "python 88\n",
            "english 77\n",
            "math 66\n",
            "science 95\n"
          ],
          "name": "stdout"
        }
      ]
    },
    {
      "cell_type": "markdown",
      "metadata": {
        "id": "D9ecwcC5jZPA"
      },
      "source": [
        "## enumerate()를 이용한 출력\n",
        "- 반복문 사용 시 몇 번째 반복문인지 확인이 필요할 수 있음, 이때 사용.\n",
        "- 인덱스 번호와 컬렉션의 원소를 tuple형태로 반환.\n",
        "\n"
      ]
    },
    {
      "cell_type": "code",
      "metadata": {
        "colab": {
          "base_uri": "https://localhost:8080/"
        },
        "id": "JyUue1pFhsbW",
        "outputId": "1d67eba9-5dc9-4e94-af13-54868e63bc4e"
      },
      "source": [
        "# 인덱스 번호와 과목 출력\n",
        "for position, subject in enumerate(subjects):\n",
        "    print(position,subject)\n"
      ],
      "execution_count": null,
      "outputs": [
        {
          "output_type": "stream",
          "text": [
            "0 python\n",
            "1 english\n",
            "2 math\n",
            "3 science\n"
          ],
          "name": "stdout"
        }
      ]
    },
    {
      "cell_type": "code",
      "metadata": {
        "colab": {
          "base_uri": "https://localhost:8080/"
        },
        "id": "fkRM0iuokrUf",
        "outputId": "e7211171-66f1-4c1a-a4ca-f6f24400fa73"
      },
      "source": [
        "# 과목만 출력\n",
        "for position, subject in enumerate(subjects):\n",
        "    print(subjects[position])\n",
        "\n"
      ],
      "execution_count": null,
      "outputs": [
        {
          "output_type": "stream",
          "text": [
            "python\n",
            "english\n",
            "math\n",
            "science\n"
          ],
          "name": "stdout"
        }
      ]
    },
    {
      "cell_type": "code",
      "metadata": {
        "colab": {
          "base_uri": "https://localhost:8080/"
        },
        "id": "CdCE57oMksoR",
        "outputId": "cd0e97b6-6231-4683-e81b-6cafe2a9a45e"
      },
      "source": [
        "# 도전 [DIY]\n",
        "\n",
        "print(\"enumerate()를 이용하여 점수를 출력해보시오.\")\n",
        "for position, score in enumerate(scores):\n",
        "    print(scores[position])"
      ],
      "execution_count": null,
      "outputs": [
        {
          "output_type": "stream",
          "text": [
            "enumerate()를 이용하여 점수를 출력해보시오.\n",
            "88\n",
            "77\n",
            "66\n",
            "95\n"
          ],
          "name": "stdout"
        }
      ]
    },
    {
      "cell_type": "markdown",
      "metadata": {
        "id": "XpTsfifYonF7"
      },
      "source": [
        "## zip()을 이용한 출력\n",
        "- 두 그룹의 데이터를 서로 엮어준다.\n",
        "- 가변 인자를 받기 때문에 2개 이상의 인자를 넘겨서 병렬 처리를 할 수 있다.\n",
        "- (주의할 점)가장 짧은 인자를 기준으로 데이터가 엮이고, 나머지는 버려지기 때문에 길이가 다를 때는 주의해야함.\n"
      ]
    },
    {
      "cell_type": "code",
      "metadata": {
        "colab": {
          "base_uri": "https://localhost:8080/"
        },
        "id": "SECFIMPuorkz",
        "outputId": "977b7744-7fc0-4c8a-a1eb-bd8527a5eaa1"
      },
      "source": [
        ">>> for pair in zip(subjects, scores): #for subjects, scores in zip(subjects, scores) 를 하면 괄호가 안생김\n",
        "...     print(pair)\n"
      ],
      "execution_count": null,
      "outputs": [
        {
          "output_type": "stream",
          "text": [
            "('python', 88)\n",
            "('english', 77)\n",
            "('math', 66)\n",
            "('science', 95)\n"
          ],
          "name": "stdout"
        }
      ]
    },
    {
      "cell_type": "markdown",
      "metadata": {
        "id": "3FDI3v4AnYwA"
      },
      "source": [
        "## for 문과 itrator의 응용: 복합 문자열 리스트\n",
        "---"
      ]
    },
    {
      "cell_type": "code",
      "metadata": {
        "id": "PRiHfP_XoD-9"
      },
      "source": [
        "subjects = ['python', 'english', 'math', 'science']\n",
        "scores = [88, 77, 66, 95]"
      ],
      "execution_count": null,
      "outputs": []
    },
    {
      "cell_type": "markdown",
      "metadata": {
        "id": "Hp6D3ZkDn2A6"
      },
      "source": [
        "> range()함수 이용하여 과목과 점수 출력"
      ]
    },
    {
      "cell_type": "code",
      "metadata": {
        "colab": {
          "base_uri": "https://localhost:8080/"
        },
        "id": "lJIgczrikYyp",
        "outputId": "0deb8c09-fca0-48ec-c280-9c558faeb367"
      },
      "source": [
        "# Method-1\n",
        "for position in range(len(subjects)):\n",
        "    subject = subjects[position]\n",
        "    score = scores[position]\n",
        "    print(subject, score)\n",
        "\n"
      ],
      "execution_count": null,
      "outputs": [
        {
          "output_type": "stream",
          "text": [
            "python 88\n",
            "english 77\n",
            "math 66\n",
            "science 95\n"
          ],
          "name": "stdout"
        }
      ]
    },
    {
      "cell_type": "markdown",
      "metadata": {
        "id": "AEq7e2pMn9l2"
      },
      "source": [
        "> enumerate()함수 이용하여 과목과 점수 출력"
      ]
    },
    {
      "cell_type": "code",
      "metadata": {
        "colab": {
          "base_uri": "https://localhost:8080/"
        },
        "id": "-1b1fioJnUj-",
        "outputId": "4d3e85eb-e78c-4126-ec28-e3f6e81274fb"
      },
      "source": [
        "# Method-2\n",
        "for position, subject in enumerate(subjects):\n",
        "    score = scores[position]\n",
        "    print(subject, score)\n"
      ],
      "execution_count": null,
      "outputs": [
        {
          "output_type": "stream",
          "text": [
            "python 88\n",
            "english 77\n",
            "math 66\n",
            "science 95\n"
          ],
          "name": "stdout"
        }
      ]
    },
    {
      "cell_type": "markdown",
      "metadata": {
        "id": "zmmLFcJfoLjz"
      },
      "source": [
        ">zip()함수 이용하여 과목과 점수 출력"
      ]
    },
    {
      "cell_type": "code",
      "metadata": {
        "colab": {
          "base_uri": "https://localhost:8080/"
        },
        "id": "-0Y2uATlpzzk",
        "outputId": "886b51a0-abf9-4239-ea5d-084244e82e0d"
      },
      "source": [
        "print(zip(subjects, scores))\n",
        "#출력값 = (데이터type at 주소)\n",
        "list(zip(subjects, scores))\n",
        "# 리스트에 담았기 때문에 항목들을 출력"
      ],
      "execution_count": null,
      "outputs": [
        {
          "output_type": "stream",
          "text": [
            "<zip object at 0x7fc1f0357550>\n"
          ],
          "name": "stdout"
        },
        {
          "output_type": "execute_result",
          "data": {
            "text/plain": [
              "[('python', 88), ('english', 77), ('math', 66), ('science', 95)]"
            ]
          },
          "metadata": {
            "tags": []
          },
          "execution_count": 84
        }
      ]
    },
    {
      "cell_type": "code",
      "metadata": {
        "colab": {
          "base_uri": "https://localhost:8080/"
        },
        "id": "YcEsZz2gnnce",
        "outputId": "6c3bda9c-cb7e-414f-80c1-16631cfa6851"
      },
      "source": [
        "# Method-3\n",
        "for pair1 in zip(subjects, scores):\n",
        "    print(pair1)\n"
      ],
      "execution_count": null,
      "outputs": [
        {
          "output_type": "stream",
          "text": [
            "('python', 88)\n",
            "('english', 77)\n",
            "('math', 66)\n",
            "('science', 95)\n"
          ],
          "name": "stdout"
        }
      ]
    },
    {
      "cell_type": "code",
      "metadata": {
        "colab": {
          "base_uri": "https://localhost:8080/"
        },
        "id": "eW7XvGnAoK2O",
        "outputId": "970ae900-a6b2-4930-d963-3ff5ef262ad1"
      },
      "source": [
        "# 응용 코드 : 평균 성적을 구하시오.\n",
        "subjects = ['python', 'english', 'math', 'science']\n",
        "scores = [88, 77, 66, 95]\n",
        "\n",
        "average = 0\n",
        "total = 0\n",
        "for subject, score in zip(subjects, scores):\n",
        "    total += score \n",
        "    print(subject, score)\n",
        "\n",
        "print(\"평균 점수 = {}\".format(total/len(subjects))) #총점수 나누기 과목의 개수(4)\n",
        "\n",
        "# So Cool!\n"
      ],
      "execution_count": null,
      "outputs": [
        {
          "output_type": "stream",
          "text": [
            "python 88\n",
            "english 77\n",
            "math 66\n",
            "science 95\n",
            "평균 점수 = 81.5\n"
          ],
          "name": "stdout"
        }
      ]
    }
  ]
}