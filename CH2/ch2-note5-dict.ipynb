{
 "metadata": {
  "language_info": {
   "codemirror_mode": {
    "name": "ipython",
    "version": 3
   },
   "file_extension": ".py",
   "mimetype": "text/x-python",
   "name": "python",
   "nbconvert_exporter": "python",
   "pygments_lexer": "ipython3",
   "version": "3.9.1-final"
  },
  "orig_nbformat": 2,
  "kernelspec": {
   "name": "python3",
   "display_name": "Python 3.9.1 64-bit",
   "metadata": {
    "interpreter": {
     "hash": "7a695d8e24dc7cc701bc8852c5ba6314ed8789bc16da2b093cce5b569a3e12da"
    }
   }
  }
 },
 "nbformat": 4,
 "nbformat_minor": 2,
 "cells": [
  {
   "source": [
    "# ch2_07_dictionary.ipynb by PA03\n"
   ],
   "cell_type": "markdown",
   "metadata": {}
  },
  {
   "source": [
    "## 딕셔너리: 딕셔너리(Dictionary)란?\n",
    "- 딕셔너리란 대응 관계를 나타내는 자료형.\n",
    "- 연관 배열(Associative array) 또는 해시(Hash)\n",
    "- 딕셔너리는 Key와 Value를 한 쌍으로 갖는 자료형"
   ],
   "cell_type": "markdown",
   "metadata": {}
  },
  {
   "source": [
    "## 기본 딕셔너리의 모습\n",
    "- {Key1:Value1, Key2:Value2, Key3:Value3, ...}\n",
    "- Key와 Value의 쌍 여러 개가 { }로 둘러싸여 있다.\n",
    "- 각각의 요소는 Key : Value 형태로 이루어져 있고 쉼표(,)로 구분"
   ],
   "cell_type": "markdown",
   "metadata": {}
  },
  {
   "cell_type": "code",
   "execution_count": 1,
   "metadata": {},
   "outputs": [],
   "source": [
    "dic = {\"name\": \"pey\", \"phone\": \"0119993323\", \"birth\": \"1118\"}"
   ]
  },
  {
   "source": [
    "- dic[0] 오류 => dic['name'] dic는 해당 키 값을 넣어서 호출해야함\n",
    "- Key는 각각 'name', 'phone', 'birth'\n",
    "- 각 Key에 해당하는 Value는 'pey', '0119993323', '1118'"
   ],
   "cell_type": "markdown",
   "metadata": {}
  },
  {
   "source": [
    "## 여러 가지 딕셔너리"
   ],
   "cell_type": "markdown",
   "metadata": {}
  },
  {
   "cell_type": "code",
   "execution_count": 4,
   "metadata": {},
   "outputs": [
    {
     "output_type": "stream",
     "name": "stdout",
     "text": [
      "1\n"
     ]
    },
    {
     "output_type": "execute_result",
     "data": {
      "text/plain": [
       "[1, 2, 3]"
      ]
     },
     "metadata": {},
     "execution_count": 4
    }
   ],
   "source": [
    "a = {1: \"hi\"}\n",
    "# a[1] dictionary는 key로 인덱싱\n",
    "a = {\"a\": [1, 2, 3]}  # value에는 복합 자료형도 사용된다.\n",
    "print(len(a)) #1개의 쌍이 있어서 1이 나옴\n",
    "# a[a] TypeError 변수의 의미인 a 이기 때문에\n",
    "a[\"a\"]"
   ]
  },
  {
   "source": [
    "## 딕셔너리 쌍 추가하기"
   ],
   "cell_type": "markdown",
   "metadata": {}
  },
  {
   "cell_type": "code",
   "execution_count": 5,
   "metadata": {},
   "outputs": [
    {
     "output_type": "stream",
     "name": "stdout",
     "text": [
      "{1: 'a', 2: 'b', 'name': 'pey'}\n"
     ]
    },
    {
     "output_type": "execute_result",
     "data": {
      "text/plain": [
       "{1: 'a', 2: 'b', 'name': 'pey', 3: [1, 2, 3]}"
      ]
     },
     "metadata": {},
     "execution_count": 5
    }
   ],
   "source": [
    "a = {1: \"a\"}\n",
    "a[2] = \"b\"\n",
    "a[\"name\"] = \"pey\"\n",
    "print(a)\n",
    "a[3] = [1, 2, 3]\n",
    "a"
   ]
  },
  {
   "source": [
    "## 딕셔너리 쌍 삭제하기"
   ],
   "cell_type": "markdown",
   "metadata": {}
  },
  {
   "cell_type": "code",
   "execution_count": 6,
   "metadata": {},
   "outputs": [
    {
     "output_type": "stream",
     "name": "stdout",
     "text": [
      "{2: 'b', 'name': 'pey', 3: [1, 2, 3]}\n"
     ]
    }
   ],
   "source": [
    "del a[1] #1번 인덱스가 아니고 1 이라는 key값을 삭제\n",
    "print(a)\n"
   ]
  },
  {
   "source": [
    "## 딕셔너리: 사용 방법"
   ],
   "cell_type": "markdown",
   "metadata": {}
  },
  {
   "cell_type": "code",
   "execution_count": 7,
   "metadata": {},
   "outputs": [
    {
     "output_type": "stream",
     "name": "stdout",
     "text": [
      "{'김연아': '피겨스케이팅', '류현진': '야구', '손흥민': '축구', '귀도': '파이썬'}\n"
     ]
    },
    {
     "output_type": "execute_result",
     "data": {
      "text/plain": [
       "'축구'"
      ]
     },
     "metadata": {},
     "execution_count": 7
    }
   ],
   "source": [
    "d = {\"김연아\": \"피겨스케이팅\", \"류현진\": \"야구\", \"손흥민\": \"축구\", \"귀도\": \"파이썬\"}\n",
    "print(d)\n",
    "d[\"손흥민\"]"
   ]
  },
  {
   "source": [
    "## 딕셔너리에서 Key 사용해 Value 얻기"
   ],
   "cell_type": "markdown",
   "metadata": {}
  },
  {
   "cell_type": "code",
   "execution_count": 13,
   "metadata": {},
   "outputs": [
    {
     "output_type": "stream",
     "name": "stdout",
     "text": [
      "10\n99\na\n2\n1118\n0109993323\n"
     ]
    }
   ],
   "source": [
    "grade = {\"pey\": 10, \"julliet\": 99}\n",
    "print(grade[\"pey\"])\n",
    "print(grade[\"julliet\"])\n",
    "a = {1: \"a\", 2: \"b\"}\n",
    "print(a[1])  # 1은 key\n",
    "#\n",
    "a = {\"a\": 1, \"b\": 2}\n",
    "print(a[\"b\"])\n",
    "#a[b]  # TypeError b라는 key값이 없음\n",
    "dic = {\"name\": \"pey\", \"phone\": \"0109993323\", \"birth\": \"1118\"}\n",
    "print(dic[\"birth\"])\n",
    "print(dic[\"phone\"])"
   ]
  },
  {
   "source": [
    "- 딕셔너리 만들 때 주의할 사항\n",
    "- 딕셔너리에서 Key는 고유한 값이므로 중복되는 Key 값을 설정해 놓으면\n",
    "- 마지막에 사용된 key 값 하나를 제외한 나머지 것들이 모두 무시된다"
   ],
   "cell_type": "markdown",
   "metadata": {}
  },
  {
   "cell_type": "code",
   "execution_count": 14,
   "metadata": {},
   "outputs": [
    {
     "output_type": "execute_result",
     "data": {
      "text/plain": [
       "'b'"
      ]
     },
     "metadata": {},
     "execution_count": 14
    }
   ],
   "source": [
    "a = {1: \"a\", 1: \"b\"}\n",
    "a[1]"
   ]
  },
  {
   "source": [
    "## 딕셔너리: 관련 내장 함수들"
   ],
   "cell_type": "markdown",
   "metadata": {}
  },
  {
   "cell_type": "code",
   "execution_count": 16,
   "metadata": {},
   "outputs": [
    {
     "output_type": "stream",
     "name": "stdout",
     "text": [
      "dict_keys(['name', 'phone', 'birth'])\n['name', 'phone', 'birth']\n"
     ]
    }
   ],
   "source": [
    "#Key 리스트 만들기(keys)\n",
    "\n",
    "a = {\"name\": \"pey\", \"phone\": \"0119993323\", \"birth\": \"1118\"}\n",
    "print(a.keys()) # 모든 key 값 출력\n",
    "print(list(a.keys())) #사전에 있는 key값을 리스트에 담아서 출력"
   ]
  },
  {
   "cell_type": "code",
   "execution_count": 17,
   "metadata": {},
   "outputs": [
    {
     "output_type": "stream",
     "name": "stdout",
     "text": [
      "name\nphone\nbirth\n"
     ]
    }
   ],
   "source": [
    "#################################################\n",
    "# 기본적인 반복(iterate) 구문(예: for문)을 실행\n",
    "#################################################\n",
    "for k in a.keys():\n",
    "    print(k)"
   ]
  },
  {
   "source": [
    "## Value 리스트 만들기(values)"
   ],
   "cell_type": "markdown",
   "metadata": {}
  },
  {
   "cell_type": "code",
   "execution_count": 18,
   "metadata": {},
   "outputs": [
    {
     "output_type": "execute_result",
     "data": {
      "text/plain": [
       "dict_values(['pey', '0119993323', '1118'])"
      ]
     },
     "metadata": {},
     "execution_count": 18
    }
   ],
   "source": [
    "a.values()"
   ]
  },
  {
   "source": [
    "## Key, Value 쌍 얻기(items)"
   ],
   "cell_type": "markdown",
   "metadata": {}
  },
  {
   "cell_type": "code",
   "execution_count": 19,
   "metadata": {},
   "outputs": [
    {
     "output_type": "execute_result",
     "data": {
      "text/plain": [
       "dict_items([('name', 'pey'), ('phone', '0119993323'), ('birth', '1118')])"
      ]
     },
     "metadata": {},
     "execution_count": 19
    }
   ],
   "source": [
    "a.items()"
   ]
  },
  {
   "source": [
    "## Key: Value 쌍 모두 지우기(clear)"
   ],
   "cell_type": "markdown",
   "metadata": {}
  },
  {
   "cell_type": "code",
   "execution_count": 20,
   "metadata": {},
   "outputs": [
    {
     "output_type": "execute_result",
     "data": {
      "text/plain": [
       "{}"
      ]
     },
     "metadata": {},
     "execution_count": 20
    }
   ],
   "source": [
    "a.clear()\n",
    "a"
   ]
  },
  {
   "source": [
    "## Key로 Value얻기(get)"
   ],
   "cell_type": "markdown",
   "metadata": {}
  },
  {
   "cell_type": "code",
   "execution_count": 24,
   "metadata": {},
   "outputs": [
    {
     "output_type": "stream",
     "name": "stdout",
     "text": [
      "pey\n0119993323\nbar\npey\n"
     ]
    }
   ],
   "source": [
    "a = {\"name\": \"pey\", \"phone\": \"0119993323\", \"birth\": \"1118\"}\n",
    "print(a.get(\"name\"))  # a['name']\n",
    "print(a.get(\"phone\"))  # a['phone']\n",
    "# print(a[\"nokey\"])  # KeyError 해당하는 키값이 없음\n",
    "# get(x, '디폴트 값')\n",
    "\n",
    "# 딕셔너리 안에 찾으려는 Key 값이 없을 경우\n",
    "# 미리 정해 둔 디폴트 값을 대신 가져오게 설정.\n",
    "\n",
    "print(a.get(\"foo\", \"bar\"))\n",
    "print(a.get(\"name\", \"bar\"))"
   ]
  },
  {
   "source": [
    "## 해당 Key가 딕셔너리 안에 있는지 조사하기(in)"
   ],
   "cell_type": "markdown",
   "metadata": {}
  },
  {
   "cell_type": "code",
   "execution_count": 26,
   "metadata": {},
   "outputs": [
    {
     "output_type": "stream",
     "name": "stdout",
     "text": [
      "True\n"
     ]
    },
    {
     "output_type": "execute_result",
     "data": {
      "text/plain": [
       "False"
      ]
     },
     "metadata": {},
     "execution_count": 26
    }
   ],
   "source": [
    "a = {\"name\": \"pey\", \"phone\": \"0119993323\", \"birth\": \"1118\"}\n",
    "print(\"name\" in a)\n",
    "\"foo\" in a"
   ]
  },
  {
   "cell_type": "code",
   "execution_count": null,
   "metadata": {},
   "outputs": [],
   "source": []
  }
 ]
}