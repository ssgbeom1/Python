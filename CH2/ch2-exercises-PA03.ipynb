{
  "nbformat": 4,
  "nbformat_minor": 0,
  "metadata": {
    "colab": {
      "name": "ch2_exercises.ipynb",
      "provenance": [],
      "collapsed_sections": [],
      "include_colab_link": true
    },
    "kernelspec": {
      "name": "python391jvsc74a57bd07a695d8e24dc7cc701bc8852c5ba6314ed8789bc16da2b093cce5b569a3e12da",
      "display_name": "Python 3.9.1 64-bit"
    },
    "metadata": {
      "interpreter": {
        "hash": "7a695d8e24dc7cc701bc8852c5ba6314ed8789bc16da2b093cce5b569a3e12da"
      }
    }
  },
  "cells": [
    {
      "cell_type": "markdown",
      "metadata": {
        "id": "ovY5jkD5dpxE",
        "colab_type": "text"
      },
      "source": [
        "## ch2-exercises-PA03.ipynb"
      ]
    },
    {
      "cell_type": "markdown",
      "metadata": {
        "id": "SZw6UnxQWYBe",
        "colab_type": "text"
      },
      "source": [
        "## Q1.\n",
        "> 홍길동 씨의 과목별 점수는 다음과 같다. 홍길동 씨의 평균 점수를 구해 보자.\n",
        "\n",
        "- 과목\t점수\n",
        "- 국어\t80\n",
        "- 영어\t75\n",
        "- 수학\t55"
      ]
    },
    {
      "cell_type": "code",
      "metadata": {
        "id": "rUNNaqJPdg7B",
        "colab_type": "code",
        "colab": {}
      },
      "source": [
        "dic = {'국어':80,'영어':75,'수학':55}\n",
        "scoreAverage = round((dic['국어']+dic['영어']+dic['수학'])/3)\n",
        "print(\"홍길동씨의 3개 과목의 평균은 {}점{ 입니다.\".format(scoreAverage, ))\n"
      ],
      "execution_count": 13,
      "outputs": [
        {
          "output_type": "stream",
          "name": "stdout",
          "text": [
            "홍길동씨의 3개 과목의 평균은 70점 입니다.\n"
          ]
        }
      ]
    },
    {
      "cell_type": "markdown",
      "metadata": {
        "colab_type": "text",
        "id": "re2-XrUYXF1m"
      },
      "source": [
        "## Q2.\n",
        "> 자연수 13이 홀수인지 짝수인지 판별할 수 있는 방법에 대해 말해 보자.\n",
        "\n",
        "1. 판별 기준\n",
        "2. 코드\n"
      ]
    },
    {
      "cell_type": "code",
      "metadata": {
        "colab_type": "code",
        "id": "5MBLUZ5WXF1q",
        "colab": {}
      },
      "source": [
        "# [Q2] Code\n",
        "# 1. 판별 기준 : if문을 사용하여 13을 2로 나누었을때 나머지가 없이 나누어 지면 짝수, 그외의 조건(2로 나누었을때 나머지가 있으면)은 홀수로 판정\n",
        "number = 13\n",
        "if number % 2 == 0:\n",
        "    print(\"13은 짝수 입니다.\")\n",
        "else:\n",
        "    print(\"13은 홀수 입니다.\")\n",
        "\n"
      ],
      "execution_count": 8,
      "outputs": [
        {
          "output_type": "stream",
          "name": "stdout",
          "text": [
            "13은 홀수 입니다.\n"
          ]
        }
      ]
    },
    {
      "cell_type": "markdown",
      "metadata": {
        "colab_type": "text",
        "id": "UZy8lu_BXGnT"
      },
      "source": [
        "## Q3.\n",
        "> 홍길동 씨의 주민등록번호는 881120-1068234이다. 홍길동 씨의 주민등록번호를 연월일(YYYYMMDD) 부분과 그 뒤의 숫자 부분으로 나누어 출력해 보자.\n",
        "\n",
        "- 문자열 슬라이싱 기법을 사용해 보자."
      ]
    },
    {
      "cell_type": "code",
      "metadata": {
        "colab_type": "code",
        "id": "H9T_sXHzXGnW",
        "colab": {}
      },
      "source": [
        "# [Q3] Code\n",
        "Social_Security_Number= (\"881120-1068234\")\n",
        "ssn_First = Social_Security_Number[0:6]\n",
        "ssn_Second =Social_Security_Number[7:]\n",
        "print(\"홍길동씨의 주민번호 앞자리는 {} 입니다\".format(ssn_First))\n",
        "print(\"홍길동씨의 주민번호 뒷자리는 {} 입니다\".format(ssn_Second))\n",
        "\n",
        "\n"
      ],
      "execution_count": 25,
      "outputs": [
        {
          "output_type": "stream",
          "name": "stdout",
          "text": [
            "홍길동씨의 주민번호 앞자리는 881120 입니다\n홍길동씨의 주민번호 뒷자리는 1068234 입니다\n"
          ]
        }
      ]
    },
    {
      "cell_type": "markdown",
      "metadata": {
        "colab_type": "text",
        "id": "fqypxxqTXHY7"
      },
      "source": [
        "## Q4.\n",
        "> 주민등록번호 뒷자리의 맨 첫 번째 숫자는 성별을 나타낸다. 주민등록번호에서 성별을 나타내는 숫자를 출력해 보자.\n",
        "\n",
        "- pin = \"881120-1068234\"\n",
        "- ※ 문자열 인덱싱 또는 내장함수를 사용해 보자.\n",
        "- 문자열포맷팅을 이용해서 성별을 출력하시오."
      ]
    },
    {
      "cell_type": "code",
      "metadata": {
        "colab_type": "code",
        "id": "oQ5UnmayXHY-",
        "colab": {}
      },
      "source": [
        "# [Q4] Code\n",
        "pin = \"881120-1068234\"\n",
        "gender = int(pin[7:8])\n",
        "if gender == 2:\n",
        "    print(\"여성입니다\")\n",
        "else:\n",
        "    print(\"남성입니다\")\n"
      ],
      "execution_count": 26,
      "outputs": [
        {
          "output_type": "stream",
          "name": "stdout",
          "text": [
            "남성입니다\n"
          ]
        }
      ]
    },
    {
      "cell_type": "markdown",
      "metadata": {
        "colab_type": "text",
        "id": "NKsvciXZXIL-"
      },
      "source": [
        "## Q5.\n",
        "> 다음과 같은 문자열 a:b:c:d가 있다. 문자열의 replace 함수를 사용하여 a#b#c#d로 바꿔서 출력해 보자.\n",
        "\n",
        "- a = \"a:b:c:d\""
      ]
    },
    {
      "cell_type": "code",
      "metadata": {
        "colab_type": "code",
        "id": "5MZQYOVjXIL_",
        "colab": {}
      },
      "source": [
        "# [Q5] Code\n",
        "a = \"a:b:c:d\"\n",
        "a.replace(\":\",\"#\")\n",
        "\n"
      ],
      "execution_count": 27,
      "outputs": [
        {
          "output_type": "execute_result",
          "data": {
            "text/plain": [
              "'a#b#c#d'"
            ]
          },
          "metadata": {},
          "execution_count": 27
        }
      ]
    },
    {
      "cell_type": "markdown",
      "metadata": {
        "colab_type": "text",
        "id": "-3KHtOOoXJBV"
      },
      "source": [
        "## Q6.\n",
        "> \\[1, 3, 5, 4, 2\\] 리스트를 \\[5, 4, 3, 2, 1\\]로 만들어 보자.\n",
        "\n",
        "- ※ 리스트의 내장 함수를 사용해 보자."
      ]
    },
    {
      "cell_type": "code",
      "metadata": {
        "colab_type": "code",
        "id": "AjYR0lUaXJBa",
        "colab": {}
      },
      "source": [
        "# [Q6] Code\n",
        "a = [1, 3 ,5, 4, 2]\n",
        "a.sort()\n",
        "a.reverse()\n",
        "print(a)"
      ],
      "execution_count": 20,
      "outputs": [
        {
          "output_type": "stream",
          "name": "stdout",
          "text": [
            "[5, 4, 3, 2, 1]\n"
          ]
        }
      ]
    },
    {
      "cell_type": "markdown",
      "metadata": {
        "colab_type": "text",
        "id": "t4IiVHLeZZiY"
      },
      "source": [
        "## Q7.\n",
        "> \\['Life', 'is', 'too', 'short'\\] 리스트를 Life is too short 문자열로 만들어 출력해 보자.\n",
        "\n",
        "- ※ 문자열의 join 함수를 사용하면 리스트를 문자열로 쉽게 만들 수 있다."
      ]
    },
    {
      "cell_type": "code",
      "metadata": {
        "colab_type": "code",
        "id": "9N_atipGZZii",
        "colab": {}
      },
      "source": [
        "# [Q7] Code\n",
        "a = ['Life', 'is', 'too', 'short']\n",
        "\" \".join(a)\n"
      ],
      "execution_count": 38,
      "outputs": [
        {
          "output_type": "execute_result",
          "data": {
            "text/plain": [
              "'Life is too short'"
            ]
          },
          "metadata": {},
          "execution_count": 38
        }
      ]
    },
    {
      "cell_type": "markdown",
      "metadata": {
        "colab_type": "text",
        "id": "-lBhb33mZaak"
      },
      "source": [
        "## Q8.\n",
        "> (1,2,3) 튜플에 값 4를 추가하여 (1,2,3,4)를 만들어 출력해 보자.\n",
        "\n",
        "- ※ 더하기(+) 또는 다른 방법들을 사용해 보자."
      ]
    },
    {
      "cell_type": "code",
      "metadata": {
        "colab_type": "code",
        "id": "i4BTj9htZaao",
        "colab": {}
      },
      "source": [
        "# [Q8] Code\n",
        "#튜플 더하기\n",
        "t1 = (1, 2, 3)\n",
        "t2 = (4,)\n",
        "print(t1 + t2)\n",
        "#튜플을 리스트로 변환 후 .insert함수로 4를 추가한 다음 다시 튜플로 변환 하는 방\n",
        "t1 = (1, 2, 3)\n",
        "t1_ = list(t1)\n",
        "t1_.insert(3,4)\n",
        "t1 = tuple(t1_)\n",
        "print(t1)\n"
      ],
      "execution_count": 47,
      "outputs": [
        {
          "output_type": "stream",
          "name": "stdout",
          "text": [
            "(1, 2, 3, 4)\n(1, 2, 3, 4)\n"
          ]
        }
      ]
    },
    {
      "cell_type": "markdown",
      "metadata": {
        "colab_type": "text",
        "id": "RbzxnM_2ZbD7"
      },
      "source": [
        "## Q9.\n",
        "> 다음과 같은 딕셔너리 a가 있다.\n",
        "\n",
        ">> a = dict()  \n",
        ">> a  \n",
        "{}\n",
        "\n",
        "- 다음 중 오류가 발생하는 경우를 고르고, 그 이유를 설명해 보자.\n",
        "\n",
        "1. a\\['name'\\] = 'python'\n",
        "2. a\\[('a',)\\] = 'python'\n",
        "3. a\\[\\[1\\]\\] = 'python'\n",
        "4. a\\[250\\] = 'python'"
      ]
    },
    {
      "cell_type": "code",
      "metadata": {
        "colab_type": "code",
        "id": "f-5U0rBgZbEB",
        "colab": {}
      },
      "source": [
        "# [Q9] Code & explanation\n",
        "print(\"답은 2번\")\n",
        "print(\"딕셔너리의 key값은 튜플등 변하지 않는 값을 지정해야되는데 위에 사용된 a[[1]]의 key 값은 변하는 값(리스트) 이므로 사용할 수 없다.\")\n",
        "\n",
        "\n",
        "\n"
      ],
      "execution_count": 77,
      "outputs": [
        {
          "output_type": "stream",
          "name": "stdout",
          "text": [
            "답은 2번\n딕셔너리의 key값은 튜플등 변하지 않는 값을 지정해야되는데 위에 사용된 a[[1]]의 key 값은 변하는 값(리스트) 이므로 사용할 수 없다.\n"
          ]
        }
      ]
    },
    {
      "cell_type": "markdown",
      "metadata": {
        "colab_type": "text",
        "id": "9qiSBPM8Zbpj"
      },
      "source": [
        "## Q10.\n",
        "> 딕셔너리 a에서 'B'에 해당되는 값을 추출해 보자.\n",
        ">> a = {'A':90, 'B':80, 'C':70}\n",
        "\n",
        "- ※ 딕셔너리의 pop 함수를 사용해 보자."
      ]
    },
    {
      "cell_type": "code",
      "metadata": {
        "colab_type": "code",
        "id": "Y9swWMWHZbpm",
        "colab": {}
      },
      "source": [
        "# [Q10] Code\n",
        "a = {'A':90, 'B':80, 'C':70}\n",
        "print(a.pop('B'))\n",
        "a\n",
        "\n"
      ],
      "execution_count": 53,
      "outputs": [
        {
          "output_type": "stream",
          "name": "stdout",
          "text": [
            "80\n"
          ]
        },
        {
          "output_type": "execute_result",
          "data": {
            "text/plain": [
              "{'A': 90, 'C': 70}"
            ]
          },
          "metadata": {},
          "execution_count": 53
        }
      ]
    },
    {
      "cell_type": "markdown",
      "metadata": {
        "colab_type": "text",
        "id": "88KNoXFNZcR7"
      },
      "source": [
        "## Q11.\n",
        "> a 리스트에서 중복 숫자를 제거해 보자.\n",
        ">> a = \\[1, 1, 1, 2, 2, 3, 3, 3, 4, 4, 5\\]\n",
        "\n",
        "- ※ 집합 자료형의 요솟값이 중복될 수 없다는 특징을 사용해 보자."
      ]
    },
    {
      "cell_type": "code",
      "metadata": {
        "colab_type": "code",
        "id": "paSvArIWZcSB",
        "colab": {}
      },
      "source": [
        "# [Q11] Code\n",
        "a = [1, 1, 1, 2, 2, 3, 3, 3, 4, 4, 5]\n",
        "a1 = set(a)\n",
        "a1_ = list(a1)\n",
        "a1_"
      ],
      "execution_count": 23,
      "outputs": [
        {
          "output_type": "execute_result",
          "data": {
            "text/plain": [
              "[1, 2, 3, 4, 5]"
            ]
          },
          "metadata": {},
          "execution_count": 23
        }
      ]
    },
    {
      "cell_type": "markdown",
      "metadata": {
        "colab_type": "text",
        "id": "EzVVHI-AZc3T"
      },
      "source": [
        "## Q12.\n",
        "> 파이썬은 다음처럼 동일한 값에 여러 개의 변수를 선언할 수 있다. 다음과 같이 a, b 변수를 선언한 후 a의 두 번째 요솟값을 변경하면 b 값은 어떻게 될까? 그리고 이런 결과가 오는 이유에 대해 설명해 보자.\n",
        "\n",
        ">> a = b = \\[1, 2, 3\\]  \n",
        ">> a\\[1\\] = 4  \n",
        ">> print(b)  \n"
      ]
    },
    {
      "cell_type": "code",
      "metadata": {
        "colab_type": "code",
        "id": "RvRIUGqAZc3W",
        "colab": {}
      },
      "source": [
        "# [Q12] Code & explanation\n",
        "a = b = [1, 2, 3]\n",
        "a[1] = 4\n",
        "print(\"a의 주소는 {} 입니다.\".format(id(a)))\n",
        "print(\"b의 주소는 {} 입니다.\".format(id(b)))\n",
        "print(a)\n",
        "print(b)\n",
        "#이것을 보면 a 와 b의 주소가 같은 곳에 있는걸 알수 있다 같은 주소에 있는 a 와 b 가 같은 값을 가지고 있으므로 a 를 수정하면 b 도 수정되는것이다.\n",
        "print(\"_______________________________________________\")\n",
        "a = [1, 2, 3]\n",
        "b = [1, 2, 3]\n",
        "a[1] = 4\n",
        "print(\"a의 주소는 {} 입니다.\".format(id(a)))\n",
        "print(\"b의 주소는 {} 입니다.\".format(id(b)))\n",
        "print(a)\n",
        "print(b)\n",
        "#이렇게 a와 b의 값이 같더라도 서로 다른 주소에 저장이 되어있으면 위와 다르게 a 를 수정 하여도 b 는 바뀌지 않는다는것을 알수있다."
      ],
      "execution_count": 82,
      "outputs": [
        {
          "output_type": "stream",
          "name": "stdout",
          "text": [
            "a의 주소는 2486957060480 입니다.\nb의 주소는 2486957060480 입니다.\n[1, 4, 3]\n[1, 4, 3]\n_______________________________________________\na의 주소는 2486957062400 입니다.\nb의 주소는 2486939513792 입니다.\n[1, 4, 3]\n[1, 2, 3]\n"
          ]
        }
      ]
    },
    {
      "cell_type": "markdown",
      "metadata": {
        "id": "2ljBDShkbqZO",
        "colab_type": "text"
      },
      "source": [
        "## 코딩 연습 결과를 github에 올리기\n",
        "> 완성된 ipython 노트북 파일을 각자의 github에 올리시오.\n",
        "\n",
        "- github 계정 만들기 (계정이 없는 학생)\n",
        "    1. github에 sign up (Google gmail 계정을 이용해서 만드시오.)\n",
        "- github에 노트 올리기\n",
        "    2. github에 각자의 id로 repo를 만드시오. (한번 만들면 계속 재사용)\n",
        "    3. **github repo의 ch2 폴더에 연습문제 풀이 노트를 올리시오.**\n",
        "        - 제출노트: ch2-exercises-id.ipynb\n"
      ]
    },
    {
      "cell_type": "code",
      "metadata": {
        "id": "OnCR-YNCc8B6",
        "colab_type": "code",
        "colab": {}
      },
      "source": [],
      "execution_count": 0,
      "outputs": []
    }
  ]
}