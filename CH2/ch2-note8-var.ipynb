{
 "metadata": {
  "language_info": {
   "codemirror_mode": {
    "name": "ipython",
    "version": 3
   },
   "file_extension": ".py",
   "mimetype": "text/x-python",
   "name": "python",
   "nbconvert_exporter": "python",
   "pygments_lexer": "ipython3",
   "version": "3.9.1-final"
  },
  "orig_nbformat": 2,
  "kernelspec": {
   "name": "python391jvsc74a57bd07a695d8e24dc7cc701bc8852c5ba6314ed8789bc16da2b093cce5b569a3e12da",
   "display_name": "Python 3.9.1 64-bit"
  },
  "metadata": {
   "interpreter": {
    "hash": "7a695d8e24dc7cc701bc8852c5ba6314ed8789bc16da2b093cce5b569a3e12da"
   }
  }
 },
 "nbformat": 4,
 "nbformat_minor": 2,
 "cells": [
  {
   "source": [
    "# ch2-note8-var.ipynb by PA03"
   ],
   "cell_type": "markdown",
   "metadata": {}
  },
  {
   "source": [
    "## 변수: 변수란?\n",
    "- 변수는 자료(값)을 저장하는 공간이다."
   ],
   "cell_type": "markdown",
   "metadata": {}
  },
  {
   "cell_type": "code",
   "execution_count": 1,
   "metadata": {},
   "outputs": [
    {
     "output_type": "execute_result",
     "data": {
      "text/plain": [
       "1798138589952"
      ]
     },
     "metadata": {},
     "execution_count": 1
    }
   ],
   "source": [
    "a = [1, 2, 3]\n",
    "id(a)  # a 변수가 가리키는 메모리의 주소"
   ]
  },
  {
   "source": [
    "## list"
   ],
   "cell_type": "markdown",
   "metadata": {}
  },
  {
   "cell_type": "code",
   "execution_count": 7,
   "metadata": {},
   "outputs": [
    {
     "output_type": "stream",
     "name": "stdout",
     "text": [
      "1798138575360\n1798138575360 1798138575360\nTrue\n________________________\nTrue\n1798138797504\nFalse\n"
     ]
    }
   ],
   "source": [
    "a = [1, 2, 3]\n",
    "print(id(a))\n",
    "b = a\n",
    "print(id(a), id(b))\n",
    "print(a is b)\n",
    "a[1] = 4\n",
    "a, b\n",
    "print(\"________________________\")\n",
    "print(a is b) #지금은 주소가 같은 상태\n",
    "b = [1, 2, 3] #b 를 새로 선언 (주소가 다른 곳에 저장됨)\n",
    "print(id(b))\n",
    "print(a is b)"
   ]
  },
  {
   "source": [
    "- b 변수를 생성할 때 a 변수의 값을 가져오면서\n",
    "- a와는 다른 주소를 가리키도록 만들수는 없을까?\n",
    "- 다음 2가지 방법이 있다."
   ],
   "cell_type": "markdown",
   "metadata": {}
  },
  {
   "source": [
    "### 1. [:] 이용"
   ],
   "cell_type": "markdown",
   "metadata": {}
  },
  {
   "cell_type": "code",
   "execution_count": 8,
   "metadata": {},
   "outputs": [
    {
     "output_type": "execute_result",
     "data": {
      "text/plain": [
       "([1, 4, 3], [1, 2, 3])"
      ]
     },
     "metadata": {},
     "execution_count": 8
    }
   ],
   "source": [
    "a = [1, 2, 3]\n",
    "b = a[:]\n",
    "a[1] = 4\n",
    "a, b"
   ]
  },
  {
   "source": [
    "### 2. copy 모듈 이용"
   ],
   "cell_type": "markdown",
   "metadata": {}
  },
  {
   "cell_type": "code",
   "execution_count": 9,
   "metadata": {},
   "outputs": [
    {
     "output_type": "execute_result",
     "data": {
      "text/plain": [
       "(False, False)"
      ]
     },
     "metadata": {},
     "execution_count": 9
    }
   ],
   "source": [
    "a = [1, 2, 3]\n",
    "from copy import copy\n",
    "b = copy(a)\n",
    "\n",
    "b is a, a is b"
   ]
  },
  {
   "source": [
    "## 변수를 만드는 여러 가지 방법"
   ],
   "cell_type": "markdown",
   "metadata": {}
  },
  {
   "cell_type": "code",
   "execution_count": 13,
   "metadata": {},
   "outputs": [
    {
     "output_type": "stream",
     "name": "stdout",
     "text": [
      "python\nlife\n"
     ]
    },
    {
     "output_type": "execute_result",
     "data": {
      "text/plain": [
       "('python', 'life')"
      ]
     },
     "metadata": {},
     "execution_count": 13
    }
   ],
   "source": [
    "a, b = (\"python\", \"life\")\n",
    "print(a)\n",
    "print(b)\n",
    "a, b\n"
   ]
  },
  {
   "cell_type": "code",
   "execution_count": 12,
   "metadata": {},
   "outputs": [
    {
     "output_type": "stream",
     "name": "stdout",
     "text": [
      "python\nlife\n"
     ]
    }
   ],
   "source": [
    "[a, b] = [\"python\", \"life\"]\n",
    "print(a)\n",
    "print(b)"
   ]
  },
  {
   "cell_type": "code",
   "execution_count": 14,
   "metadata": {},
   "outputs": [
    {
     "output_type": "stream",
     "name": "stdout",
     "text": [
      "5\n3\n"
     ]
    }
   ],
   "source": [
    "a = 3\n",
    "b = 5\n",
    "a, b = b, a\n",
    "print(a)\n",
    "print(b)"
   ]
  },
  {
   "cell_type": "code",
   "execution_count": null,
   "metadata": {},
   "outputs": [],
   "source": []
  }
 ]
}