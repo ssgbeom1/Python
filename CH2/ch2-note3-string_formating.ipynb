{
 "metadata": {
  "language_info": {
   "codemirror_mode": {
    "name": "ipython",
    "version": 3
   },
   "file_extension": ".py",
   "mimetype": "text/x-python",
   "name": "python",
   "nbconvert_exporter": "python",
   "pygments_lexer": "ipython3",
   "version": "3.9.1-final"
  },
  "orig_nbformat": 2,
  "kernelspec": {
   "name": "python3",
   "display_name": "Python 3.9.1 64-bit",
   "metadata": {
    "interpreter": {
     "hash": "7a695d8e24dc7cc701bc8852c5ba6314ed8789bc16da2b093cce5b569a3e12da"
    }
   }
  }
 },
 "nbformat": 4,
 "nbformat_minor": 2,
 "cells": [
  {
   "source": [
    "## 문자열: 포매팅이란?"
   ],
   "cell_type": "markdown",
   "metadata": {}
  },
  {
   "cell_type": "code",
   "execution_count": 13,
   "metadata": {},
   "outputs": [
    {
     "output_type": "stream",
     "name": "stdout",
     "text": [
      "I eat 3 apples.\nI eat five apples.\nI eat 3 apples.\n"
     ]
    },
    {
     "output_type": "execute_result",
     "data": {
      "text/plain": [
       "'I ate 10 apples. so I was sick for three days.'"
      ]
     },
     "metadata": {},
     "execution_count": 13
    }
   ],
   "source": [
    "# 1. 숫자 바로 대입\n",
    "print(\"I eat %d apples.\" % 3) # %d 는 숫자 포매터\n",
    "\n",
    "# 2. 문자열 바로 대입\n",
    "print(\"I eat %s apples.\" % \"five\") # %s 는 문자 포매터\n",
    "\n",
    "# 3. 숫자 값을 나타내는 변수로 대입\n",
    "number = 3\n",
    "print(\"I eat %d apples.\" % number)\n",
    "\n",
    "# 4. 2개 이상의 값 넣기\n",
    "number = 10\n",
    "day = \"three\"\n",
    "#\"I ate %d apples. so I was sick for %s days.\" % number  # , day   # Error\n",
    "\"I ate %d apples. so I was sick for %s days.\" % (number, day)\n",
    "# 소괄호 안에 콤마(,)로 구분하여 각각의 값을 넣어 준다. (튜플로 묶음)\n"
   ]
  },
  {
   "source": [
    "## 문자열: 포맷 코드\n"
   ],
   "cell_type": "markdown",
   "metadata": {}
  },
  {
   "cell_type": "code",
   "execution_count": 12,
   "metadata": {},
   "outputs": [
    {
     "output_type": "stream",
     "name": "stdout",
     "text": [
      "I have 3 apples\nrate is 3.234\nError is 98%.\n"
     ]
    }
   ],
   "source": [
    "# %d (숫자형), %s (문자열), %c (문자 하나), %f (실수), %o (8진수), %x(16진수), %% (%기호)\n",
    "# %s, 묵시적 형변환\n",
    "print(\"I have %s apples\" % 3)\n",
    "print(\"rate is %s\" % 3.234) #문자열로 형변환 해서 묵시적으로 바꿔줌\n",
    "\n",
    "# \"Error is %d%.\" % 98 오류\n",
    "print(\"Error is %d%%.\" % 98)"
   ]
  },
  {
   "source": [
    "## 문자열: 포맷 코드와 숫자 함께 사용하기"
   ],
   "cell_type": "markdown",
   "metadata": {}
  },
  {
   "cell_type": "code",
   "execution_count": 11,
   "metadata": {},
   "outputs": [
    {
     "output_type": "stream",
     "name": "stdout",
     "text": [
      "        hi\nhi        jane.\n3.4213\n    3.4213\n"
     ]
    }
   ],
   "source": [
    "# 1. 정렬과 공백\n",
    "print(\"%10s\" % \"hi\") #%**s 는 공백 우측정렬\n",
    "print(\"%-10sjane.\" % \"hi\") #좌측정렬\n",
    "# 2. 소수점 표현하기\n",
    "print(\"%0.4f\" % 3.42134234)\n",
    "print(\"%10.4f\" % 3.42134234)"
   ]
  },
  {
   "source": [
    "## 문자열: format 함수를 사용한 포매팅"
   ],
   "cell_type": "markdown",
   "metadata": {}
  },
  {
   "cell_type": "code",
   "execution_count": 10,
   "metadata": {},
   "outputs": [
    {
     "output_type": "stream",
     "name": "stdout",
     "text": [
      "I eat 3 apples\nI eat 3 4 apples\nI eat five apples\nI eat five apples from three boxes\nI eat 3 apples\nI eat 4 apples\nI ate 10 apples. so I was sick for three days.\nI ate 10 apples. so I was sick for 3 days.\n"
     ]
    },
    {
     "output_type": "execute_result",
     "data": {
      "text/plain": [
       "'I ate 10 apples. so I was sick for 3 days.'"
      ]
     },
     "metadata": {},
     "execution_count": 10
    }
   ],
   "source": [
    "# 1. 숫자 바로 대입하기\n",
    "print(\"I eat {0} apples\".format(3))\n",
    "print(\"I eat {0} {1} apples\".format(3, 4))\n",
    "\n",
    "# 2. 문자열 바로 대입하기\n",
    "print(\"I eat {0} apples\".format(\"five\"))\n",
    "print(\"I eat {0} apples from {1} boxes\".format(\"five\", \"three\"))\n",
    "\n",
    "# 3. 숫자 값을 가진 변수로 대입하기\n",
    "number = 3\n",
    "print(\"I eat {0} apples\".format(number))\n",
    "print(\"I eat {0} apples\".format(number + 1))\n",
    "\n",
    "# 2개 이상의 값 넣기\n",
    "number = 10\n",
    "day = \"three\"\n",
    "print(\"I ate {0} apples. so I was sick for {1} days.\".format(number, day))\n",
    "# 이름으로 넣기\n",
    "print(\"I ate {number} apples. so I was sick for {day} days.\".format(number=10, day=3))\n",
    "# 인덱스와 이름을 혼용해서 넣기\n",
    "\"I ate {0} apples. so I was sick for {day} days.\".format(10, day=3)"
   ]
  },
  {
   "source": [
    "## 정렬"
   ],
   "cell_type": "markdown",
   "metadata": {}
  },
  {
   "cell_type": "code",
   "execution_count": 9,
   "metadata": {},
   "outputs": [
    {
     "output_type": "stream",
     "name": "stdout",
     "text": [
      "hi        \n        hi\n    hi    \n====hi====\nhi!!!!!!!!\n!!!!!!!!hi\n"
     ]
    },
    {
     "output_type": "execute_result",
     "data": {
      "text/plain": [
       "'hi              hcit'"
      ]
     },
     "metadata": {},
     "execution_count": 9
    }
   ],
   "source": [
    "# 왼쪽 정렬/ 오른쪽 정렬\n",
    "print(\"{0:<10}\".format(\"hi\")) #10칸을 잡아서 hi를 왼쪽에 정렬\n",
    "print(\"{0:>10}\".format(\"hi\")) #10칸을 잡아서 hi를 오른쪽에 정렬\n",
    "# 가운데 정렬\n",
    "print(\"{0:^10}\".format(\"hi\")) #10칸을 잡아서 hi를 중앙에 정렬\n",
    "# 공백 채우기\n",
    "print(\"{0:=^10}\".format(\"hi\")) #10칸을 잡아서 =를 채우고 중앙에 hi를 정렬\n",
    "print(\"{0:!<10}\".format(\"hi\")) #10칸을 잡아서 !를 채우고 왼쪽에 hi를 정렬\n",
    "print(\"{0:!>10}\".format(\"hi\")) #10칸을 잡아서 !를 채우고 오른쪽에쪽에 hi를 정렬\n",
    "\n",
    "# 도전하기\n",
    "\"{0:<10}{1:>10}\".format(\"hi\",'hcit')"
   ]
  },
  {
   "source": [
    "## 소수점 표현하기\n"
   ],
   "cell_type": "markdown",
   "metadata": {}
  },
  {
   "cell_type": "code",
   "execution_count": 8,
   "metadata": {},
   "outputs": [
    {
     "output_type": "stream",
     "name": "stdout",
     "text": [
      "3.4213\n    3.4213\n"
     ]
    },
    {
     "output_type": "execute_result",
     "data": {
      "text/plain": [
       "'{ and }'"
      ]
     },
     "metadata": {},
     "execution_count": 8
    }
   ],
   "source": [
    "y = 3.42134234\n",
    "print(\"{0:0.4f}\".format(y))\n",
    "print(\"{0:10.4f}\".format(y))\n",
    "# { 또는 } 문자 표현하기\n",
    "\"{{ and }}\".format()"
   ]
  },
  {
   "source": [
    "## 문자열: f 문자열 포매팅"
   ],
   "cell_type": "markdown",
   "metadata": {}
  },
  {
   "cell_type": "code",
   "execution_count": 7,
   "metadata": {},
   "outputs": [
    {
     "output_type": "stream",
     "name": "stdout",
     "text": [
      "나의 이름은 홍길동입니다. 나이는 30입니다.\n나는 내년이면 31살이 된다.\n나의 이름은 홍길동입니다. 나이는 30입니다.\nhi        \n        hi\n3.4213\n    3.4213\n"
     ]
    },
    {
     "output_type": "execute_result",
     "data": {
      "text/plain": [
       "'{ and }'"
      ]
     },
     "metadata": {},
     "execution_count": 7
    }
   ],
   "source": [
    "name = \"홍길동\"\n",
    "age = 30\n",
    "print(f\"나의 이름은 {name}입니다. 나이는 {age}입니다.\")\n",
    "\n",
    "age = 30\n",
    "print(f\"나는 내년이면 {age+1}살이 된다.\")\n",
    "\n",
    "# 딕셔너리는 f 문자열 포매팅에서 다음과 같이 사용\n",
    "d = {\"name\": \"홍길동\", \"age\": 30}\n",
    "print(f'나의 이름은 {d[\"name\"]}입니다. 나이는 {d[\"age\"]}입니다.')\n",
    "# 정렬\n",
    "print(f'{\"hi\":<10}')  # 왼쪽 정렬\n",
    "print(f'{\"hi\":>10}')  # 오른쪽 정렬\n",
    "f'{\"hi\":^10}'  # 가운데 정렬\n",
    "# 공백 채우기\n",
    "y = 3.42134234\n",
    "print(f\"{y:0.4f}\")  # 소수점 4자리까지만 표현\n",
    "print(f\"{y:10.4f}\")  # 소수점 4자리까지 표현하고 총 자리수를 10으로 맞춤\n",
    "# { } 문자를 표시\n",
    "f\"{{ and }}\""
   ]
  },
  {
   "source": [
    "## 문자열: 관련 내장 함수들\n"
   ],
   "cell_type": "markdown",
   "metadata": {}
  },
  {
   "cell_type": "code",
   "execution_count": 4,
   "metadata": {},
   "outputs": [
    {
     "output_type": "stream",
     "name": "stdout",
     "text": [
      "2\n14\n-1\n8\nHI\niot\nhi \n hi\nhi\nYour leg is too short\n['Life', 'is', 'too', 'short']\n['a', 'b', 'c', 'd']\n"
     ]
    },
    {
     "output_type": "execute_result",
     "data": {
      "text/plain": [
       "'!!!python!!!'"
      ]
     },
     "metadata": {},
     "execution_count": 4
    }
   ],
   "source": [
    "# 문자 개수 세기(count)\n",
    "a = \"hobby\"\n",
    "print(a.count(\"b\"))\n",
    "# 위치 알려주기1(find)\n",
    "a = \"Python is the best choice\"\n",
    "print(a.find(\"b\"))\n",
    "print(a.find(\"k\"))  # what value?\n",
    "# 위치 알려주기2(index)\n",
    "a = \"Life is too short\"\n",
    "print(a.index(\"t\"))\n",
    "# a.index(\"k\") #k 가 없기떄문에 나오지 않음\n",
    "\n",
    "# 문자열 삽입(join)\n",
    "\",\".join(\"abcd\")\n",
    "\",\".join([\"a\", \"b\", \"c\", \"d\"])\n",
    "# 소문자를 대문자로 바꾸기(upper)\n",
    "a = \"hi\"\n",
    "print(a.upper())\n",
    "# 대문자를 소문자로 바꾸기(lower)\n",
    "a = \"IoT\"\n",
    "print(a.lower())\n",
    "# 왼쪽 공백 지우기(lstrip)\n",
    "a = \" hi \"\n",
    "print(a.lstrip())\n",
    "# 오른쪽 공백 지우기(rstrip)\n",
    "print(a.rstrip())\n",
    "# 양쪽 공백 지우기(strip)\n",
    "print(a.strip())\n",
    "# 문자열 바꾸기(replace)\n",
    "a = \"Life is too short\"\n",
    "print(a.replace(\"Life\", \"Your leg\"))\n",
    "\n",
    "# 문자열 나누기(split) -> 리스트로 변환하여 반환\n",
    "a = \"Life is too short\"\n",
    "print(a.split())\n",
    "b = \"a:b:c:d\"\n",
    "print(b.split(\":\"))\n",
    "\n",
    "#### 도전하기 #####\n",
    "# format 함수 또는 f 문자열 포매팅을 이용해서 '!!!python!!!' 문자열을 출력해보시오.\n",
    "\"{0:!^12}\".format(\"python\")\n",
    "f'{\"python\":!^12}'"
   ]
  },
  {
   "cell_type": "code",
   "execution_count": null,
   "metadata": {},
   "outputs": [],
   "source": []
  }
 ]
}