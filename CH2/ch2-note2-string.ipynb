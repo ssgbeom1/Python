{
 "metadata": {
  "language_info": {
   "codemirror_mode": {
    "name": "ipython",
    "version": 3
   },
   "file_extension": ".py",
   "mimetype": "text/x-python",
   "name": "python",
   "nbconvert_exporter": "python",
   "pygments_lexer": "ipython3",
   "version": "3.9.1-final"
  },
  "orig_nbformat": 2,
  "kernelspec": {
   "name": "python3",
   "display_name": "Python 3.9.1 64-bit",
   "metadata": {
    "interpreter": {
     "hash": "7a695d8e24dc7cc701bc8852c5ba6314ed8789bc16da2b093cce5b569a3e12da"
    }
   }
  }
 },
 "nbformat": 4,
 "nbformat_minor": 2,
 "cells": [
  {
   "source": [
    "## ch2-note2-string.ipynb by PA03\n",
    "\n"
   ],
   "cell_type": "markdown",
   "metadata": {}
  },
  {
   "source": [
    "## 문자열:"
   ],
   "cell_type": "markdown",
   "metadata": {}
  },
  {
   "cell_type": "code",
   "execution_count": 2,
   "metadata": {},
   "outputs": [
    {
     "output_type": "stream",
     "name": "stdout",
     "text": [
      "문자열: \n"
     ]
    },
    {
     "output_type": "execute_result",
     "data": {
      "text/plain": [
       "\"Python's favorite food is perl\""
      ]
     },
     "metadata": {},
     "execution_count": 2
    }
   ],
   "source": [
    "print(\"문자열: \")\n",
    "food = \"Python's favorite food is perl\"\n",
    "food"
   ]
  },
  {
   "cell_type": "code",
   "execution_count": 7,
   "metadata": {},
   "outputs": [
    {
     "output_type": "execute_result",
     "data": {
      "text/plain": [
       "\"Python's favorite food is perl\""
      ]
     },
     "metadata": {},
     "execution_count": 7
    }
   ],
   "source": [
    "food = \"Python's favorite food is perl\"  # Error (수정)\n",
    "food"
   ]
  },
  {
   "cell_type": "code",
   "execution_count": 4,
   "metadata": {},
   "outputs": [
    {
     "output_type": "execute_result",
     "data": {
      "text/plain": [
       "'\"Python is very easy.\" he says.'"
      ]
     },
     "metadata": {},
     "execution_count": 4
    }
   ],
   "source": [
    "say = '\"Python is very easy.\" he says.'\n",
    "say"
   ]
  },
  {
   "cell_type": "code",
   "execution_count": 6,
   "metadata": {},
   "outputs": [
    {
     "output_type": "stream",
     "name": "stdout",
     "text": [
      "문자열: \\ 이용\nPython's favorite food is perl\n\"Python is very easy.\" he says.\n"
     ]
    }
   ],
   "source": [
    "print(\"문자열: \\ 이용\")\n",
    "food = 'Python\\'s favorite food is perl'\n",
    "say = \"\\\"Python is very easy.\\\" he says.\"\n",
    "print(food)\n",
    "print(say)"
   ]
  },
  {
   "source": [
    "## 이스케이프 코드\n"
   ],
   "cell_type": "markdown",
   "metadata": {}
  },
  {
   "cell_type": "code",
   "execution_count": 9,
   "metadata": {},
   "outputs": [
    {
     "output_type": "stream",
     "name": "stdout",
     "text": [
      "문자열: 이스케이프 코드 이용\nLife is too short\nYou need python\n"
     ]
    }
   ],
   "source": [
    "print(\"문자열: 이스케이프 코드 이용\")\n",
    "multiline = \"Life is too short\\nYou need python\"\n",
    "multiline\n",
    "print(multiline)"
   ]
  },
  {
   "source": [
    "## 여러줄 문자열 처리"
   ],
   "cell_type": "markdown",
   "metadata": {}
  },
  {
   "cell_type": "code",
   "execution_count": 10,
   "metadata": {},
   "outputs": [
    {
     "output_type": "stream",
     "name": "stdout",
     "text": [
      "\nLife is too short\nYou need python\n\n"
     ]
    }
   ],
   "source": [
    "multiline = '''\n",
    "... Life is too short\n",
    "... You need python\n",
    "... '''\n",
    "multiline\n",
    "print(multiline)"
   ]
  },
  {
   "source": [
    "## 문자열 연산: 더하기"
   ],
   "cell_type": "markdown",
   "metadata": {}
  },
  {
   "cell_type": "code",
   "execution_count": 12,
   "metadata": {},
   "outputs": [
    {
     "output_type": "stream",
     "name": "stdout",
     "text": [
      "문자열 연산: 더하기\n"
     ]
    },
    {
     "output_type": "execute_result",
     "data": {
      "text/plain": [
       "'Python is fun!'"
      ]
     },
     "metadata": {},
     "execution_count": 12
    }
   ],
   "source": [
    "print(\"문자열 연산: 더하기\")\n",
    "head = \"Python\"\n",
    "tail = \" is fun!\"\n",
    "head + tail"
   ]
  },
  {
   "source": [
    "## 문자열 연산: 곱하기"
   ],
   "cell_type": "markdown",
   "metadata": {}
  },
  {
   "cell_type": "code",
   "execution_count": 13,
   "metadata": {},
   "outputs": [
    {
     "output_type": "stream",
     "name": "stdout",
     "text": [
      "문자열 연산: 곱하기\n"
     ]
    },
    {
     "output_type": "execute_result",
     "data": {
      "text/plain": [
       "'pythonpython'"
      ]
     },
     "metadata": {},
     "execution_count": 13
    }
   ],
   "source": [
    "print(\"문자열 연산: 곱하기\")\n",
    "a = \"python\"\n",
    "a * 2"
   ]
  },
  {
   "source": [
    "## multistring.py"
   ],
   "cell_type": "markdown",
   "metadata": {}
  },
  {
   "cell_type": "code",
   "execution_count": 14,
   "metadata": {},
   "outputs": [
    {
     "output_type": "stream",
     "name": "stdout",
     "text": [
      "==================================================\nI am now coding Python!\n==================================================\n"
     ]
    }
   ],
   "source": [
    "print(\"=\" * 50)\n",
    "print(\"I am now coding Python!\")\n",
    "print(\"=\" * 50)"
   ]
  },
  {
   "source": [
    "## 내장함수: len()"
   ],
   "cell_type": "markdown",
   "metadata": {}
  },
  {
   "cell_type": "code",
   "execution_count": 15,
   "metadata": {},
   "outputs": [
    {
     "output_type": "stream",
     "name": "stdout",
     "text": [
      "문자열 연산: 길이 구하기 - len()\n"
     ]
    },
    {
     "output_type": "execute_result",
     "data": {
      "text/plain": [
       "17"
      ]
     },
     "metadata": {},
     "execution_count": 15
    }
   ],
   "source": [
    "print(\"문자열 연산: 길이 구하기 - len()\")\n",
    "a = \"Life is too short\"\n",
    "len(a)"
   ]
  },
  {
   "source": [
    "## 문자열 인덱싱과 슬라이싱"
   ],
   "cell_type": "markdown",
   "metadata": {}
  },
  {
   "cell_type": "code",
   "execution_count": 17,
   "metadata": {},
   "outputs": [
    {
     "output_type": "stream",
     "name": "stdout",
     "text": [
      "문자열: 인덱싱이란?\ne\nr\n"
     ]
    }
   ],
   "source": [
    "print(\"문자열: 인덱싱이란?\")\n",
    "a = \"Life is too short, You need Python\"\n",
    "print(a[3])\n",
    "print(a[15])"
   ]
  },
  {
   "source": [
    "## 파이썬은 0부터 숫자를 센다."
   ],
   "cell_type": "markdown",
   "metadata": {}
  },
  {
   "cell_type": "code",
   "execution_count": 19,
   "metadata": {},
   "outputs": [
    {
     "output_type": "stream",
     "name": "stdout",
     "text": [
      "문자열: 인덱싱 활용\nL\ns\nn\no\ny\n \n"
     ]
    }
   ],
   "source": [
    "print(\"문자열: 인덱싱 활용\")\n",
    "\n",
    "a = \"Life is too short, You need Python\"\n",
    "print(a[0])\n",
    "\n",
    "print(a[12])\n",
    "\n",
    "print(a[-1])\n",
    "\n",
    "# a[-0]\n",
    "print(a[-2])\n",
    "print(a[-5])\n",
    "print(a[-12])"
   ]
  },
  {
   "source": [
    "## 문자열: 슬라이싱이란?"
   ],
   "cell_type": "markdown",
   "metadata": {}
  },
  {
   "cell_type": "code",
   "execution_count": 22,
   "metadata": {},
   "outputs": [
    {
     "output_type": "stream",
     "name": "stdout",
     "text": [
      "Life\nLife \nis\nshort\nLife\nYou need Python\nLife is too short\nLife is too short, You need Python\nYou need\n"
     ]
    }
   ],
   "source": [
    "a = \"Life is too short, You need Python\"\n",
    "# Life 를 뽑아낼려면 어떻게?\n",
    "b = a[0] + a[1] + a[2] + a[3]  # 문자열 뎌하기 연산\n",
    "b\n",
    "# slicing (슬라이싱)\n",
    "print(a[0:4])  # 0 <= index < 4\n",
    "\n",
    "print(a[0:5])\n",
    "print(a[5:7])\n",
    "print(a[12:17])\n",
    "# : 의 사용\n",
    "print(a[:4])\n",
    "print(a[19:])\n",
    "print(a[:17])\n",
    "\n",
    "print(a[:])\n",
    "\n",
    "# a[19:-7] ?\n",
    "print(a[19:-7])\n",
    "\n"
   ]
  },
  {
   "source": [
    "## 문자열: 슬라이싱 응용?\n"
   ],
   "cell_type": "markdown",
   "metadata": {}
  },
  {
   "cell_type": "code",
   "execution_count": 27,
   "metadata": {},
   "outputs": [
    {
     "output_type": "stream",
     "name": "stdout",
     "text": [
      "문자열: 슬라이싱 응용?\n20190909\nSunny\n2019 0917 Rainy\n"
     ]
    }
   ],
   "source": [
    "print(\"문자열: 슬라이싱 응용?\")\n",
    "a = \"20190909Sunny\"\n",
    "date = a[:8]\n",
    "weather = a[8:]\n",
    "print(date)\n",
    "print(weather)\n",
    "\n",
    "a = \"20190917Rainy\"\n",
    "year = a[:4]\n",
    "day = a[4:8]\n",
    "weather = a[8:]\n",
    "print(year,day,weather)"
   ]
  },
  {
   "source": [
    "## \"Pithon\"이라는 문자열을 \"Python\"으로 바꾸려면?"
   ],
   "cell_type": "markdown",
   "metadata": {}
  },
  {
   "cell_type": "code",
   "execution_count": 29,
   "metadata": {},
   "outputs": [
    {
     "output_type": "execute_result",
     "data": {
      "text/plain": [
       "'Python'"
      ]
     },
     "metadata": {},
     "execution_count": 29
    }
   ],
   "source": [
    "#a = \"Pithon\"\n",
    "#a[1]\n",
    "# a[1] = 'y'  # Error (immutable한 자료형)\n",
    "\n",
    "a = \"Pithon\"\n",
    "a[:1]\n",
    "a[2:]\n",
    "a[:1] + 'y' + a[2:]  # Python"
   ]
  },
  {
   "cell_type": "code",
   "execution_count": null,
   "metadata": {},
   "outputs": [],
   "source": []
  }
 ]
}